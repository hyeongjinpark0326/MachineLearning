{
 "cells": [
  {
   "cell_type": "markdown",
   "id": "735c5b56-9e5b-4ce1-bb76-efff43bf3c8b",
   "metadata": {},
   "source": [
    "### 데이터 일차 가공 및 모델 학습/예측/평가"
   ]
  },
  {
   "cell_type": "code",
   "execution_count": 1,
   "id": "9420e3de-92c7-4cf5-9911-8d45f7485993",
   "metadata": {},
   "outputs": [],
   "source": [
    "import pandas as pd\n",
    "import numpy as np\n",
    "import matplotlib.pyplot as plt\n",
    "import warnings\n",
    "warnings.filterwarnings('ignore')"
   ]
  },
  {
   "cell_type": "code",
   "execution_count": 2,
   "id": "5d781fb8-cddb-4847-9551-e26292a724b2",
   "metadata": {},
   "outputs": [
    {
     "data": {
      "text/html": [
       "<div>\n",
       "<style scoped>\n",
       "    .dataframe tbody tr th:only-of-type {\n",
       "        vertical-align: middle;\n",
       "    }\n",
       "\n",
       "    .dataframe tbody tr th {\n",
       "        vertical-align: top;\n",
       "    }\n",
       "\n",
       "    .dataframe thead th {\n",
       "        text-align: right;\n",
       "    }\n",
       "</style>\n",
       "<table border=\"1\" class=\"dataframe\">\n",
       "  <thead>\n",
       "    <tr style=\"text-align: right;\">\n",
       "      <th></th>\n",
       "      <th>Time</th>\n",
       "      <th>V1</th>\n",
       "      <th>V2</th>\n",
       "      <th>V3</th>\n",
       "      <th>V4</th>\n",
       "      <th>V5</th>\n",
       "      <th>V6</th>\n",
       "      <th>V7</th>\n",
       "      <th>V8</th>\n",
       "      <th>V9</th>\n",
       "      <th>...</th>\n",
       "      <th>V21</th>\n",
       "      <th>V22</th>\n",
       "      <th>V23</th>\n",
       "      <th>V24</th>\n",
       "      <th>V25</th>\n",
       "      <th>V26</th>\n",
       "      <th>V27</th>\n",
       "      <th>V28</th>\n",
       "      <th>Amount</th>\n",
       "      <th>Class</th>\n",
       "    </tr>\n",
       "  </thead>\n",
       "  <tbody>\n",
       "    <tr>\n",
       "      <th>0</th>\n",
       "      <td>0.0</td>\n",
       "      <td>-1.359807</td>\n",
       "      <td>-0.072781</td>\n",
       "      <td>2.536347</td>\n",
       "      <td>1.378155</td>\n",
       "      <td>-0.338321</td>\n",
       "      <td>0.462388</td>\n",
       "      <td>0.239599</td>\n",
       "      <td>0.098698</td>\n",
       "      <td>0.363787</td>\n",
       "      <td>...</td>\n",
       "      <td>-0.018307</td>\n",
       "      <td>0.277838</td>\n",
       "      <td>-0.110474</td>\n",
       "      <td>0.066928</td>\n",
       "      <td>0.128539</td>\n",
       "      <td>-0.189115</td>\n",
       "      <td>0.133558</td>\n",
       "      <td>-0.021053</td>\n",
       "      <td>149.62</td>\n",
       "      <td>0</td>\n",
       "    </tr>\n",
       "    <tr>\n",
       "      <th>1</th>\n",
       "      <td>0.0</td>\n",
       "      <td>1.191857</td>\n",
       "      <td>0.266151</td>\n",
       "      <td>0.166480</td>\n",
       "      <td>0.448154</td>\n",
       "      <td>0.060018</td>\n",
       "      <td>-0.082361</td>\n",
       "      <td>-0.078803</td>\n",
       "      <td>0.085102</td>\n",
       "      <td>-0.255425</td>\n",
       "      <td>...</td>\n",
       "      <td>-0.225775</td>\n",
       "      <td>-0.638672</td>\n",
       "      <td>0.101288</td>\n",
       "      <td>-0.339846</td>\n",
       "      <td>0.167170</td>\n",
       "      <td>0.125895</td>\n",
       "      <td>-0.008983</td>\n",
       "      <td>0.014724</td>\n",
       "      <td>2.69</td>\n",
       "      <td>0</td>\n",
       "    </tr>\n",
       "    <tr>\n",
       "      <th>2</th>\n",
       "      <td>1.0</td>\n",
       "      <td>-1.358354</td>\n",
       "      <td>-1.340163</td>\n",
       "      <td>1.773209</td>\n",
       "      <td>0.379780</td>\n",
       "      <td>-0.503198</td>\n",
       "      <td>1.800499</td>\n",
       "      <td>0.791461</td>\n",
       "      <td>0.247676</td>\n",
       "      <td>-1.514654</td>\n",
       "      <td>...</td>\n",
       "      <td>0.247998</td>\n",
       "      <td>0.771679</td>\n",
       "      <td>0.909412</td>\n",
       "      <td>-0.689281</td>\n",
       "      <td>-0.327642</td>\n",
       "      <td>-0.139097</td>\n",
       "      <td>-0.055353</td>\n",
       "      <td>-0.059752</td>\n",
       "      <td>378.66</td>\n",
       "      <td>0</td>\n",
       "    </tr>\n",
       "  </tbody>\n",
       "</table>\n",
       "<p>3 rows × 31 columns</p>\n",
       "</div>"
      ],
      "text/plain": [
       "   Time        V1        V2        V3        V4        V5        V6        V7  \\\n",
       "0   0.0 -1.359807 -0.072781  2.536347  1.378155 -0.338321  0.462388  0.239599   \n",
       "1   0.0  1.191857  0.266151  0.166480  0.448154  0.060018 -0.082361 -0.078803   \n",
       "2   1.0 -1.358354 -1.340163  1.773209  0.379780 -0.503198  1.800499  0.791461   \n",
       "\n",
       "         V8        V9  ...       V21       V22       V23       V24       V25  \\\n",
       "0  0.098698  0.363787  ... -0.018307  0.277838 -0.110474  0.066928  0.128539   \n",
       "1  0.085102 -0.255425  ... -0.225775 -0.638672  0.101288 -0.339846  0.167170   \n",
       "2  0.247676 -1.514654  ...  0.247998  0.771679  0.909412 -0.689281 -0.327642   \n",
       "\n",
       "        V26       V27       V28  Amount  Class  \n",
       "0 -0.189115  0.133558 -0.021053  149.62      0  \n",
       "1  0.125895 -0.008983  0.014724    2.69      0  \n",
       "2 -0.139097 -0.055353 -0.059752  378.66      0  \n",
       "\n",
       "[3 rows x 31 columns]"
      ]
     },
     "execution_count": 2,
     "metadata": {},
     "output_type": "execute_result"
    }
   ],
   "source": [
    "card_df = pd.read_csv('creditcard.csv')\n",
    "card_df.head(3)"
   ]
  },
  {
   "cell_type": "code",
   "execution_count": 3,
   "id": "1ac6e21a-1852-4bb6-9c42-5fb6fb4afff8",
   "metadata": {},
   "outputs": [
    {
     "name": "stdout",
     "output_type": "stream",
     "text": [
      "<class 'pandas.core.frame.DataFrame'>\n",
      "RangeIndex: 284807 entries, 0 to 284806\n",
      "Data columns (total 31 columns):\n",
      " #   Column  Non-Null Count   Dtype  \n",
      "---  ------  --------------   -----  \n",
      " 0   Time    284807 non-null  float64\n",
      " 1   V1      284807 non-null  float64\n",
      " 2   V2      284807 non-null  float64\n",
      " 3   V3      284807 non-null  float64\n",
      " 4   V4      284807 non-null  float64\n",
      " 5   V5      284807 non-null  float64\n",
      " 6   V6      284807 non-null  float64\n",
      " 7   V7      284807 non-null  float64\n",
      " 8   V8      284807 non-null  float64\n",
      " 9   V9      284807 non-null  float64\n",
      " 10  V10     284807 non-null  float64\n",
      " 11  V11     284807 non-null  float64\n",
      " 12  V12     284807 non-null  float64\n",
      " 13  V13     284807 non-null  float64\n",
      " 14  V14     284807 non-null  float64\n",
      " 15  V15     284807 non-null  float64\n",
      " 16  V16     284807 non-null  float64\n",
      " 17  V17     284807 non-null  float64\n",
      " 18  V18     284807 non-null  float64\n",
      " 19  V19     284807 non-null  float64\n",
      " 20  V20     284807 non-null  float64\n",
      " 21  V21     284807 non-null  float64\n",
      " 22  V22     284807 non-null  float64\n",
      " 23  V23     284807 non-null  float64\n",
      " 24  V24     284807 non-null  float64\n",
      " 25  V25     284807 non-null  float64\n",
      " 26  V26     284807 non-null  float64\n",
      " 27  V27     284807 non-null  float64\n",
      " 28  V28     284807 non-null  float64\n",
      " 29  Amount  284807 non-null  float64\n",
      " 30  Class   284807 non-null  int64  \n",
      "dtypes: float64(30), int64(1)\n",
      "memory usage: 67.4 MB\n"
     ]
    }
   ],
   "source": [
    "card_df.info()"
   ]
  },
  {
   "cell_type": "code",
   "execution_count": 4,
   "id": "b4b4de2d-abb4-412f-83f0-290b2b4b7111",
   "metadata": {},
   "outputs": [],
   "source": [
    "from sklearn.model_selection import train_test_split\n",
    "\n",
    "# 인자로 입력받은 DataFrame을 복사한 뒤 Time 칼럼만 삭제하고 박사된 DataFrame 반환\n",
    "def get_preprocessed_df(df=None):\n",
    "    df_copy = df.copy()\n",
    "    df_copy.drop('Time', axis=1, inplace=True)\n",
    "    return df_copy\n",
    "\n",
    "# 사전 데이터 가공 후 학습과 테스트 데이터 세트를 반환하는 함수\n",
    "def get_train_test_dataset(df=None):\n",
    "    # 인자로 입력된 DataFrame의 사전 데이터 가공이 완료된 복사 DataFrame 반환\n",
    "    df_copy = get_preprocessed_df(df)\n",
    "    \n",
    "    # DataFrame의 맨 마지막 칼럼이 레이블, 나머지는 피처들\n",
    "    X = df_copy.iloc[:, :-1]\n",
    "    y = df_copy.iloc[:, -1]\n",
    "    \n",
    "    # train_test_split()으로 학습과 테스트 데이터 분할, stratify=y_target으로 Stratifeid 기반 분할\n",
    "    X_train, X_test, y_train, y_test = train_test_split(X, y, test_size=0.3, random_state=0, stratify=y)\n",
    "    \n",
    "    # 학습과 테스트 데이터 세트 반환\n",
    "    return X_train, X_test, y_train, y_test"
   ]
  },
  {
   "cell_type": "code",
   "execution_count": 5,
   "id": "b917387f-ed20-4598-9dbf-ea2bc58b164a",
   "metadata": {},
   "outputs": [],
   "source": [
    "X_train, X_test, y_train, y_test = get_train_test_dataset(card_df)"
   ]
  },
  {
   "cell_type": "code",
   "execution_count": 6,
   "id": "6999635f-f31c-4fb6-b936-4f6861f1cbe9",
   "metadata": {},
   "outputs": [
    {
     "data": {
      "text/plain": [
       "0    99.827451\n",
       "1     0.172549\n",
       "Name: Class, dtype: float64"
      ]
     },
     "execution_count": 6,
     "metadata": {},
     "output_type": "execute_result"
    }
   ],
   "source": [
    "y_train.value_counts() / y_train.shape[0]*100"
   ]
  },
  {
   "cell_type": "code",
   "execution_count": 7,
   "id": "03bd184e-1120-47b3-9c7f-a83845568a2f",
   "metadata": {},
   "outputs": [
    {
     "data": {
      "text/plain": [
       "0    99.826785\n",
       "1     0.173215\n",
       "Name: Class, dtype: float64"
      ]
     },
     "execution_count": 7,
     "metadata": {},
     "output_type": "execute_result"
    }
   ],
   "source": [
    "y_test.value_counts() / y_test.shape[0]*100"
   ]
  },
  {
   "cell_type": "code",
   "execution_count": 8,
   "id": "af1134c8-6dc8-4b4c-8f74-fc847639456e",
   "metadata": {},
   "outputs": [],
   "source": [
    "from sklearn.linear_model import LogisticRegression\n",
    "\n",
    "lr_clf = LogisticRegression()\n",
    "lr_clf.fit(X_train, y_train)\n",
    "lr_pred = lr_clf.predict(X_test)\n",
    "lr_pred_proba = lr_clf.predict_proba(X_test)[:, 1]"
   ]
  },
  {
   "cell_type": "code",
   "execution_count": 9,
   "id": "b1fa1a5a-d421-405b-89e5-77b3e340d4cb",
   "metadata": {},
   "outputs": [],
   "source": [
    "from sklearn.metrics import accuracy_score, precision_score, recall_score, f1_score, roc_auc_score\n",
    "from sklearn.metrics import confusion_matrix, precision_recall_curve, roc_curve\n",
    "# 3장에서 사용한 get_clf_eval() 함수를 이용해 평가 수행\n",
    "def get_clf_eval(y_test, pred, pred_proba):\n",
    "    confusion = confusion_matrix(y_test, pred)\n",
    "    accuracy = accuracy_score(y_test, pred)\n",
    "    precision = precision_score(y_test, pred)\n",
    "    recall = recall_score(y_test, pred)\n",
    "    f1 = f1_score(y_test, pred)\n",
    "    roc_auc = roc_auc_score(y_test, pred_proba)\n",
    "    print('오차행렬')\n",
    "    print(confusion)\n",
    "    print('정확도 : {:.4f}, 정밀도 : {:.4f}, 재현율 : {:.4f}, F1:{:.4f}, AUC:{:.4f}\\n'.format(accuracy, precision, recall,f1, roc_auc))"
   ]
  },
  {
   "cell_type": "code",
   "execution_count": 10,
   "id": "4fc14c07-5be4-4738-9672-0b1e137a5ded",
   "metadata": {},
   "outputs": [
    {
     "name": "stdout",
     "output_type": "stream",
     "text": [
      "오차행렬\n",
      "[[85280    15]\n",
      " [   62    86]]\n",
      "정확도 : 0.9991, 정밀도 : 0.8515, 재현율 : 0.5811, F1:0.6908, AUC:0.9554\n",
      "\n"
     ]
    }
   ],
   "source": [
    "get_clf_eval(y_test, lr_pred, lr_pred_proba)"
   ]
  },
  {
   "cell_type": "code",
   "execution_count": 11,
   "id": "e4965e88-3f75-496a-b7cc-6dc264efe2e3",
   "metadata": {},
   "outputs": [],
   "source": [
    "# 인자로 사이킷런의 Estimator 객체와 학습/테스트 데이터 세트를 입력 받아서 학습/예측/평가 수행.\n",
    "def get_model_train_eval(model, X_train, X_test, y_train, y_test):\n",
    "    model.fit(X_train, y_train)\n",
    "    pred = model.predict(X_test)\n",
    "    pred_proba = model.predict_proba(X_test)[:, 1]\n",
    "    get_clf_eval(y_test, pred, pred_proba)"
   ]
  },
  {
   "cell_type": "code",
   "execution_count": 12,
   "id": "30c0e4a5-b2e7-4a8e-aa95-91b155c0bf92",
   "metadata": {},
   "outputs": [
    {
     "name": "stdout",
     "output_type": "stream",
     "text": [
      "오차행렬\n",
      "[[85280    15]\n",
      " [   62    86]]\n",
      "정확도 : 0.9991, 정밀도 : 0.8515, 재현율 : 0.5811, F1:0.6908, AUC:0.9554\n",
      "\n"
     ]
    }
   ],
   "source": [
    "get_model_train_eval(lr_clf,X_train, X_test, y_train, y_test)"
   ]
  },
  {
   "cell_type": "code",
   "execution_count": 13,
   "id": "80a07b95-ab17-4095-b8a2-1f2326bdcd18",
   "metadata": {},
   "outputs": [
    {
     "name": "stdout",
     "output_type": "stream",
     "text": [
      "오차행렬\n",
      "[[85290     5]\n",
      " [   36   112]]\n",
      "정확도 : 0.9995, 정밀도 : 0.9573, 재현율 : 0.7568, F1:0.8453, AUC:0.9790\n",
      "\n"
     ]
    }
   ],
   "source": [
    "from lightgbm import LGBMClassifier\n",
    "\n",
    "lgbm_clf = LGBMClassifier(n_estimators=1000, num_leaves=64, n_jobs=1, boost_from_average=False)\n",
    "get_model_train_eval(lgbm_clf, X_train=X_train, X_test=X_test, y_train=y_train, y_test=y_test)\n",
    "\n",
    "# boost_from_average True인 경우\n",
    "# 오차행렬\n",
    "# [[85133   162]\n",
    "#  [  143     5]]\n",
    "# 정확도 : 0.9964, 정밀도 : 0.0299, 재현율 : 0.0338, F1:0.0317, AUC:0.5156"
   ]
  },
  {
   "cell_type": "markdown",
   "id": "fe7a152d-b71f-4668-a7c1-88c72668963f",
   "metadata": {},
   "source": [
    "## 데이터 분포도 변환 후 모델 학습/예측/평가"
   ]
  },
  {
   "cell_type": "code",
   "execution_count": 14,
   "id": "c767ab9d-9646-416f-924c-f923ab41b35a",
   "metadata": {},
   "outputs": [
    {
     "data": {
      "text/plain": [
       "<AxesSubplot:xlabel='Amount', ylabel='Density'>"
      ]
     },
     "execution_count": 14,
     "metadata": {},
     "output_type": "execute_result"
    },
    {
     "data": {
      "image/png": "[encoded data removed]",
      "text/plain": [
       "<Figure size 576x288 with 1 Axes>"
      ]
     },
     "metadata": {
      "needs_background": "light"
     },
     "output_type": "display_data"
    }
   ],
   "source": [
    "import seaborn as sns\n",
    "plt.figure(figsize=(8,4))\n",
    "plt.xticks(range(0,30000,1000), rotation=60)\n",
    "sns.distplot(card_df['Amount'])"
   ]
  },
  {
   "cell_type": "code",
   "execution_count": 15,
   "id": "c2cc4bad-1529-4c2d-b461-475c7747a9e9",
   "metadata": {},
   "outputs": [],
   "source": [
    "from  sklearn.preprocessing import StandardScaler\n",
    "\n",
    "# 사이킷런의 StandardScaler를 이ㅛㅇ해 정규 본포 형태로 Amount 피처값 변환하는 로직으로 수정\n",
    "def get_preprocessed_df(df=None):\n",
    "    df_copy = df.copy()\n",
    "    scaler = StandardScaler()\n",
    "    amount_n = scaler.fit_transform(df_copy['Amount'].values.reshape(-1, 1))\n",
    "    \n",
    "    # 변환된 Amount를 Amount_Scaled로 피처명 변경 후 DataFrame 맨 앞 칼럼으로 입력\n",
    "    df_copy.insert(0, 'Amount_Scaled', amount_n)\n",
    "    \n",
    "    # 기존 Time, Amount 피처 삭제\n",
    "    df_copy.drop(['Time', 'Amount'], axis=1, inplace=True)\n",
    "    \n",
    "    return df_copy\n",
    "\n",
    "# 아래 두 함수는 이전에 생성한걸 보라고 가져온 것\n",
    "\n",
    "def get_train_test_dataset(df=None):\n",
    "    df_copy = get_preprocessed_df(df)\n",
    "    X = df_copy.iloc[:, :-1]\n",
    "    y = df_copy.iloc[:, -1]\n",
    "    X_train, X_test, y_train, y_test = train_test_split(X, y, test_size=0.3, random_state=0, stratify=y)\n",
    "    return X_train, X_test, y_train, y_test\n",
    "\n",
    "def get_model_train_eval(model, X_train, X_test, y_train, y_test):\n",
    "    model.fit(X_train, y_train)\n",
    "    pred = model.predict(X_test)\n",
    "    pred_proba = model.predict_proba(X_test)[:, 1]\n",
    "    get_clf_eval(y_test, pred, pred_proba)"
   ]
  },
  {
   "cell_type": "code",
   "execution_count": 16,
   "id": "f8d71fe1-5e9b-45cf-b65c-05070d8f7b08",
   "metadata": {},
   "outputs": [],
   "source": [
    "X_train, X_test, y_train, y_test = get_train_test_dataset(card_df)"
   ]
  },
  {
   "cell_type": "code",
   "execution_count": 17,
   "id": "9a255a02-7686-4a46-99e0-b07965df765b",
   "metadata": {},
   "outputs": [
    {
     "name": "stdout",
     "output_type": "stream",
     "text": [
      "오차행렬\n",
      "[[85281    14]\n",
      " [   58    90]]\n",
      "정확도 : 0.9992, 정밀도 : 0.8654, 재현율 : 0.6081, F1:0.7143, AUC:0.9702\n",
      "\n"
     ]
    }
   ],
   "source": [
    "# 로지스틱 회귀 예측 성능\n",
    "lr_clf = LogisticRegression()\n",
    "get_model_train_eval(lr_clf, X_train, X_test, y_train, y_test)"
   ]
  },
  {
   "cell_type": "code",
   "execution_count": 19,
   "id": "318221e4-4d1c-410b-88fa-952e2d9d8a7d",
   "metadata": {},
   "outputs": [
    {
     "name": "stdout",
     "output_type": "stream",
     "text": [
      "오차행렬\n",
      "[[85290     5]\n",
      " [   37   111]]\n",
      "정확도 : 0.9995, 정밀도 : 0.9569, 재현율 : 0.7500, F1:0.8409, AUC:0.9779\n",
      "\n"
     ]
    }
   ],
   "source": [
    "# LightGBM 예측 성능\n",
    "lgbm_clf = LGBMClassifier(n_estimators=1000, num_leaves=64, n_jobs=-1, boost_from_average=False)\n",
    "get_model_train_eval(lgbm_clf, X_train, X_test, y_train, y_test)"
   ]
  },
  {
   "cell_type": "code",
   "execution_count": 20,
   "id": "fbfbdeb6-52d3-4f72-a03e-28a82967ef83",
   "metadata": {},
   "outputs": [],
   "source": [
    "def get_preprocessed_df(df=None):\n",
    "    df_copy = df.copy()\n",
    "    amount_n = np.log1p(df_copy['Amount'])\n",
    "    df_copy.insert(0, 'Amount_Scaled', amount_n)\n",
    "    df_copy.drop(['Time', 'Amount'], axis=1, inplace=True)\n",
    "    return df_copy"
   ]
  },
  {
   "cell_type": "code",
   "execution_count": 21,
   "id": "890acef6-06e9-40a9-aa3b-afb6e1e571d8",
   "metadata": {},
   "outputs": [
    {
     "name": "stdout",
     "output_type": "stream",
     "text": [
      "오차행렬\n",
      "[[85283    12]\n",
      " [   59    89]]\n",
      "정확도 : 0.9992, 정밀도 : 0.8812, 재현율 : 0.6014, F1:0.7149, AUC:0.9727\n",
      "\n",
      "오차행렬\n",
      "[[85290     5]\n",
      " [   35   113]]\n",
      "정확도 : 0.9995, 정밀도 : 0.9576, 재현율 : 0.7635, F1:0.8496, AUC:0.9796\n",
      "\n"
     ]
    }
   ],
   "source": [
    "X_train, X_test, y_train, y_test = get_train_test_dataset(card_df)\n",
    "get_model_train_eval(lr_clf, X_train, X_test, y_train, y_test)\n",
    "get_model_train_eval(lgbm_clf, X_train, X_test, y_train, y_test)"
   ]
  },
  {
   "cell_type": "code",
   "execution_count": null,
   "id": "5616881d-6739-4cc8-99ba-f76771dbec67",
   "metadata": {},
   "outputs": [],
   "source": []
  },
  {
   "cell_type": "markdown",
   "id": "f0140a4b-b059-47fd-b053-a37c339ddbc9",
   "metadata": {},
   "source": [
    "## 이상치 데이터 제거 후 모델 학습/예측/평가"
   ]
  },
  {
   "cell_type": "code",
   "execution_count": 26,
   "id": "351c4fc2-1ad3-4217-ac4b-f48742c6df32",
   "metadata": {},
   "outputs": [
    {
     "data": {
      "text/plain": [
       "<AxesSubplot:>"
      ]
     },
     "execution_count": 26,
     "metadata": {},
     "output_type": "execute_result"
    },
    {
     "data": {
      "image/png": "[encoded data removed]",
      "text/plain": [
       "<Figure size 648x648 with 2 Axes>"
      ]
     },
     "metadata": {
      "needs_background": "light"
     },
     "output_type": "display_data"
    }
   ],
   "source": [
    "import seaborn as sns\n",
    "plt.figure(figsize=(9,9))\n",
    "corr = card_df.corr()\n",
    "sns.heatmap(corr, cmap='RdBu')"
   ]
  },
  {
   "cell_type": "code",
   "execution_count": 27,
   "id": "4f555922-0302-45ff-af7e-7f1491f39656",
   "metadata": {},
   "outputs": [],
   "source": [
    "import numpy as np\n",
    "\n",
    "def get_outlier(df, column, weight=1.5):\n",
    "    # fraud에 해당하는 column 데이터만 추출, 1/4 분위와 3/4 분위 지점을 np.percentile로 구함\n",
    "    fraud = df[ df['Class'] == 1][column]\n",
    "    quantile_25 = np.percentile(fraud.values, 25)\n",
    "    quantile_75 = np.percentile(fraud.values, 75)\n",
    "    \n",
    "    # IQR을 구하고, IQR에 1.5를 곱해 최대 최소값 지점 구함\n",
    "    iqr = quantile_75 - quantile_25\n",
    "    iqr_weight = iqr * weight\n",
    "    low = quantile_25 - iqr_weight\n",
    "    high = quantile_75 + iqr_weight\n",
    "    \n",
    "    # 최대값보다 크거나, 최소값보다 작은 값을 이상치 데이터로 설정하고 DataFrame index로 반환\n",
    "    outlier_index = fraud[ (fraud < low) | (fraud > high) ].index\n",
    "    return outlier_index"
   ]
  },
  {
   "cell_type": "code",
   "execution_count": 34,
   "id": "5b2f643c-c8d8-49be-913b-ff5de4554308",
   "metadata": {},
   "outputs": [
    {
     "data": {
      "text/plain": [
       "Int64Index([8296, 8615, 9035, 9252], dtype='int64')"
      ]
     },
     "execution_count": 34,
     "metadata": {},
     "output_type": "execute_result"
    }
   ],
   "source": [
    "get_outlier(card_df, 'V14')"
   ]
  },
  {
   "cell_type": "code",
   "execution_count": 35,
   "id": "acd75327-bae6-40a7-9ef0-e3a98c022a5e",
   "metadata": {},
   "outputs": [],
   "source": [
    "# def get_preprocessed_df()를 로그 변환 후 V14 피처의 이상치 데이터를 삭제하는 로직으로 변경\n",
    "def get_preprocessed_df(df=None):\n",
    "    df_copy = df.copy()\n",
    "    amount_n = np.log1p(df_copy['Amount'])\n",
    "    df_copy.insert(0, 'Amount_Scaled', amount_n)\n",
    "    df_copy.drop(['Time', 'Amount'], axis=1, inplace=True)\n",
    "    # 이상치 데이터 삭제하는 로직 추가\n",
    "    outlier_index = get_outlier(card_df,'V14')\n",
    "    df_copy.drop(outlier_index, axis=0, inplace=True)\n",
    "    return df_copy"
   ]
  },
  {
   "cell_type": "code",
   "execution_count": 36,
   "id": "142dacf3-ece7-4ddd-96d2-3ed9ce9c5aef",
   "metadata": {},
   "outputs": [
    {
     "name": "stdout",
     "output_type": "stream",
     "text": [
      "오차행렬\n",
      "[[85281    14]\n",
      " [   48    98]]\n",
      "정확도 : 0.9993, 정밀도 : 0.8750, 재현율 : 0.6712, F1:0.7597, AUC:0.9743\n",
      "\n",
      "오차행렬\n",
      "[[85290     5]\n",
      " [   25   121]]\n",
      "정확도 : 0.9996, 정밀도 : 0.9603, 재현율 : 0.8288, F1:0.8897, AUC:0.9780\n",
      "\n"
     ]
    }
   ],
   "source": [
    "X_train, X_test, y_train, y_test = get_train_test_dataset(card_df)\n",
    "lr_clf = LogisticRegression()\n",
    "get_model_train_eval(lr_clf, X_train, X_test, y_train, y_test)\n",
    "lgbm_clf = LGBMClassifier(n_estimators=1000, num_leaves=64, n_jobs=-1, boost_from_average=False)\n",
    "get_model_train_eval(lgbm_clf, X_train, X_test, y_train, y_test)\n",
    "\n",
    "# 앞에꺼\n",
    "# 오차행렬\n",
    "# [[85283    12]\n",
    "#  [   59    89]]\n",
    "# 정확도 : 0.9992, 정밀도 : 0.8812, 재현율 : 0.6014, F1:0.7149, AUC:0.9727\n",
    "\n",
    "# 오차행렬\n",
    "# [[85290     5]\n",
    "#  [   35   113]]\n",
    "# 정확도 : 0.9995, 정밀도 : 0.9576, 재현율 : 0.7635, F1:0.8496, AUC:0.9796\n"
   ]
  },
  {
   "cell_type": "markdown",
   "id": "34dcca42-9311-4d7f-bcb3-7411f2bb3fbc",
   "metadata": {},
   "source": [
    "## SMOTE 오버 샘플링 적용 후 모델 학습/예측/평가"
   ]
  },
  {
   "cell_type": "code",
   "execution_count": 38,
   "id": "aa1367fc-1ae2-4a5a-9133-6be2f8524223",
   "metadata": {},
   "outputs": [],
   "source": [
    "from imblearn.over_sampling import SMOTE"
   ]
  },
  {
   "cell_type": "code",
   "execution_count": 42,
   "id": "a3612b00-cde6-47d6-9fe0-1424a7350e52",
   "metadata": {},
   "outputs": [
    {
     "name": "stdout",
     "output_type": "stream",
     "text": [
      "SMOTE 적용 전 학습용 피처/레이블 데이터 세트 :  (199362, 29) (199362,)\n"
     ]
    }
   ],
   "source": [
    "smote = SMOTE(random_state=0)\n",
    "X_train_over, y_train_over = smote.fit_resample(X_train, y_train)\n",
    "print('SMOTE 적용 전 학습용 피처/레이블 데이터 세트 : ', X_train.shape, y_train.shape)"
   ]
  },
  {
   "cell_type": "code",
   "execution_count": 43,
   "id": "43cf5bf2-d700-4c66-b950-32058b91daa4",
   "metadata": {},
   "outputs": [
    {
     "name": "stdout",
     "output_type": "stream",
     "text": [
      "SMOTE 적용 전 학습용 피처/레이블 데이터 세트 :  (398040, 29) (398040,)\n"
     ]
    }
   ],
   "source": [
    "print('SMOTE 적용 후 학습용 피처/레이블 데이터 세트 : ', X_train_over.shape, y_train_over.shape)"
   ]
  },
  {
   "cell_type": "code",
   "execution_count": 48,
   "id": "ada34dfd-0eb9-45c4-89dc-cd052d82dfd3",
   "metadata": {},
   "outputs": [
    {
     "name": "stdout",
     "output_type": "stream",
     "text": [
      "SMOTE 적용 후 레이블 값 분포: \n",
      " 0    199020\n",
      "1    199020\n",
      "Name: Class, dtype: int64\n"
     ]
    }
   ],
   "source": [
    "print('SMOTE 적용 후 레이블 값 분포: \\n', pd.Series(y_train_over).value_counts())"
   ]
  },
  {
   "cell_type": "code",
   "execution_count": 49,
   "id": "f18a62a5-3ee9-4346-bd31-d8cf530d7fd3",
   "metadata": {},
   "outputs": [
    {
     "name": "stdout",
     "output_type": "stream",
     "text": [
      "오차행렬\n",
      "[[82937  2358]\n",
      " [   11   135]]\n",
      "정확도 : 0.9723, 정밀도 : 0.0542, 재현율 : 0.9247, F1:0.1023, AUC:0.9737\n",
      "\n"
     ]
    }
   ],
   "source": [
    "lr_clf = LogisticRegression()\n",
    "get_model_train_eval(lr_clf, X_train_over, X_test, y_train_over, y_test)\n",
    "\n",
    "# 오차행렬\n",
    "# [[85281    14]\n",
    "#  [   48    98]]\n",
    "# 정확도 : 0.9993, 정밀도 : 0.8750, 재현율 : 0.6712, F1:0.7597, AUC:0.9743"
   ]
  },
  {
   "cell_type": "code",
   "execution_count": 51,
   "id": "b46a9cc4-8fd8-4ab4-af37-41432bef38b2",
   "metadata": {},
   "outputs": [
    {
     "name": "stdout",
     "output_type": "stream",
     "text": [
      "오차행렬\n",
      "[[85283    12]\n",
      " [   22   124]]\n",
      "정확도 : 0.9996, 정밀도 : 0.9118, 재현율 : 0.8493, F1:0.8794, AUC:0.9814\n",
      "\n"
     ]
    }
   ],
   "source": [
    "lgbm_clf = LGBMClassifier(n_estimators=1000, num_leaves=64, n_jobs=-1, boost_from_average=False)\n",
    "get_model_train_eval(lgbm_clf, X_train_over, X_test, y_train_over, y_test)\n",
    "\n",
    "# 오차행렬\n",
    "# [[85290     5]\n",
    "#  [   25   121]]\n",
    "# 정확도 : 0.9996, 정밀도 : 0.9603, 재현율 : 0.8288, F1:0.8897, AUC:0.9780"
   ]
  },
  {
   "cell_type": "code",
   "execution_count": 52,
   "id": "bb4766c9-8d0f-4de3-a248-9fed84788835",
   "metadata": {},
   "outputs": [],
   "source": [
    "def precision_recall_curve_plot(y_test, pred_proba_c1):\n",
    "    precisions, recalls, thresholds = precision_recall_curve(y_test, pred_proba_c1)\n",
    "    plt.figure(figsize=(8,6))\n",
    "    threshold_boundary = thresholds.shape[0]\n",
    "    plt.plot(thresholds, precisions[0:threshold_boundary], linestyle='--', label='precision')\n",
    "    plt.plot(thresholds, recalls[0:threshold_boundary], label='recall')\n",
    "    start, end = plt.xlim()\n",
    "    plt.xticks(np.round(np.arange(start, end, 0.1),2))\n",
    "    plt.xlabel('Threshold value')\n",
    "    plt.ylabel('Precision and Recall value')\n",
    "    plt.legend()\n",
    "    plt.grid()\n",
    "    plt.show()"
   ]
  },
  {
   "cell_type": "code",
   "execution_count": 53,
   "id": "5a00c891-2451-4f50-b285-23819182577b",
   "metadata": {},
   "outputs": [
    {
     "data": {
      "image/png": "[encoded data removed]",
      "text/plain": [
       "<Figure size 576x432 with 1 Axes>"
      ]
     },
     "metadata": {
      "needs_background": "light"
     },
     "output_type": "display_data"
    }
   ],
   "source": [
    "precision_recall_curve_plot(y_test, lr_clf.predict_proba(X_test)[:, 1])"
   ]
  },
  {
   "cell_type": "code",
   "execution_count": null,
   "id": "17c737e6-91c3-462e-9598-e6ab334c3baa",
   "metadata": {},
   "outputs": [],
   "source": []
  }
 ],
 "metadata": {
  "kernelspec": {
   "display_name": "Python 3",
   "language": "python",
   "name": "python3"
  },
  "language_info": {
   "codemirror_mode": {
    "name": "ipython",
    "version": 3
   },
   "file_extension": ".py",
   "mimetype": "text/x-python",
   "name": "python",
   "nbconvert_exporter": "python",
   "pygments_lexer": "ipython3",
   "version": "3.9.1"
  }
 },
 "nbformat": 4,
 "nbformat_minor": 5
}
