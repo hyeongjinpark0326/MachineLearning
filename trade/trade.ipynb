{
 "cells": [
  {
   "cell_type": "code",
   "execution_count": 70,
   "id": "b9b947c9-9a8b-4f81-a812-8bc39fc40d9d",
   "metadata": {},
   "outputs": [],
   "source": [
    "from sklearn.linear_model import LinearRegression\n",
    "import pandas as pd\n",
    "import numpy as np\n",
    "import pickle"
   ]
  },
  {
   "cell_type": "code",
   "execution_count": 148,
   "id": "9fd6c1d9-e82c-47fb-8af2-c08e00e88e2b",
   "metadata": {},
   "outputs": [
    {
     "name": "stderr",
     "output_type": "stream",
     "text": [
      "C:\\Users\\admin\\miniconda3\\lib\\site-packages\\openpyxl\\styles\\stylesheet.py:221: UserWarning: Workbook contains no default style, apply openpyxl's default\n",
      "  warn(\"Workbook contains no default style, apply openpyxl's default\")\n"
     ]
    }
   ],
   "source": [
    "df = pd.read_excel('trade.xls', header=4)"
   ]
  },
  {
   "cell_type": "code",
   "execution_count": 149,
   "id": "34d82e47-25f0-494a-921c-48889a79fdf9",
   "metadata": {},
   "outputs": [
    {
     "data": {
      "text/html": [
       "<div>\n",
       "<style scoped>\n",
       "    .dataframe tbody tr th:only-of-type {\n",
       "        vertical-align: middle;\n",
       "    }\n",
       "\n",
       "    .dataframe tbody tr th {\n",
       "        vertical-align: top;\n",
       "    }\n",
       "\n",
       "    .dataframe thead th {\n",
       "        text-align: right;\n",
       "    }\n",
       "</style>\n",
       "<table border=\"1\" class=\"dataframe\">\n",
       "  <thead>\n",
       "    <tr style=\"text-align: right;\">\n",
       "      <th></th>\n",
       "      <th>기간</th>\n",
       "      <th>수출건수</th>\n",
       "      <th>수출금액</th>\n",
       "      <th>수입건수</th>\n",
       "      <th>수입금액</th>\n",
       "      <th>무역수지</th>\n",
       "    </tr>\n",
       "  </thead>\n",
       "  <tbody>\n",
       "    <tr>\n",
       "      <th>0</th>\n",
       "      <td>총계</td>\n",
       "      <td>141,678,743</td>\n",
       "      <td>9,015,636,102</td>\n",
       "      <td>258,838,146</td>\n",
       "      <td>8,219,381,361</td>\n",
       "      <td>796,254,741</td>\n",
       "    </tr>\n",
       "    <tr>\n",
       "      <th>1</th>\n",
       "      <td>2000.01</td>\n",
       "      <td>258,896</td>\n",
       "      <td>12,162,425</td>\n",
       "      <td>246,432</td>\n",
       "      <td>12,594,623</td>\n",
       "      <td>-432,198</td>\n",
       "    </tr>\n",
       "    <tr>\n",
       "      <th>2</th>\n",
       "      <td>2000.02</td>\n",
       "      <td>256,293</td>\n",
       "      <td>12,676,042</td>\n",
       "      <td>242,907</td>\n",
       "      <td>12,023,652</td>\n",
       "      <td>652,390</td>\n",
       "    </tr>\n",
       "    <tr>\n",
       "      <th>3</th>\n",
       "      <td>2000.03</td>\n",
       "      <td>313,910</td>\n",
       "      <td>14,429,703</td>\n",
       "      <td>293,016</td>\n",
       "      <td>14,212,011</td>\n",
       "      <td>217,692</td>\n",
       "    </tr>\n",
       "    <tr>\n",
       "      <th>4</th>\n",
       "      <td>2000.04</td>\n",
       "      <td>293,464</td>\n",
       "      <td>13,522,040</td>\n",
       "      <td>268,239</td>\n",
       "      <td>13,344,532</td>\n",
       "      <td>177,508</td>\n",
       "    </tr>\n",
       "  </tbody>\n",
       "</table>\n",
       "</div>"
      ],
      "text/plain": [
       "        기간                  수출건수                  수출금액                  수입건수  \\\n",
       "0       총계           141,678,743         9,015,636,102           258,838,146   \n",
       "1  2000.01               258,896            12,162,425               246,432   \n",
       "2  2000.02               256,293            12,676,042               242,907   \n",
       "3  2000.03               313,910            14,429,703               293,016   \n",
       "4  2000.04               293,464            13,522,040               268,239   \n",
       "\n",
       "                   수입금액                  무역수지  \n",
       "0         8,219,381,361           796,254,741  \n",
       "1            12,594,623              -432,198  \n",
       "2            12,023,652               652,390  \n",
       "3            14,212,011               217,692  \n",
       "4            13,344,532               177,508  "
      ]
     },
     "execution_count": 149,
     "metadata": {},
     "output_type": "execute_result"
    }
   ],
   "source": [
    "df.head()"
   ]
  },
  {
   "cell_type": "code",
   "execution_count": 150,
   "id": "a18f5a0c-c4c8-4c79-952e-56b838412011",
   "metadata": {},
   "outputs": [],
   "source": [
    "df = df.iloc[1:, :]"
   ]
  },
  {
   "cell_type": "code",
   "execution_count": 151,
   "id": "08957efd-e24d-44c0-a996-fafeeb642f49",
   "metadata": {},
   "outputs": [
    {
     "data": {
      "text/html": [
       "<div>\n",
       "<style scoped>\n",
       "    .dataframe tbody tr th:only-of-type {\n",
       "        vertical-align: middle;\n",
       "    }\n",
       "\n",
       "    .dataframe tbody tr th {\n",
       "        vertical-align: top;\n",
       "    }\n",
       "\n",
       "    .dataframe thead th {\n",
       "        text-align: right;\n",
       "    }\n",
       "</style>\n",
       "<table border=\"1\" class=\"dataframe\">\n",
       "  <thead>\n",
       "    <tr style=\"text-align: right;\">\n",
       "      <th></th>\n",
       "      <th>기간</th>\n",
       "      <th>수출건수</th>\n",
       "      <th>수출금액</th>\n",
       "      <th>수입건수</th>\n",
       "      <th>수입금액</th>\n",
       "      <th>무역수지</th>\n",
       "    </tr>\n",
       "  </thead>\n",
       "  <tbody>\n",
       "    <tr>\n",
       "      <th>1</th>\n",
       "      <td>2000.01</td>\n",
       "      <td>258,896</td>\n",
       "      <td>12,162,425</td>\n",
       "      <td>246,432</td>\n",
       "      <td>12,594,623</td>\n",
       "      <td>-432,198</td>\n",
       "    </tr>\n",
       "    <tr>\n",
       "      <th>2</th>\n",
       "      <td>2000.02</td>\n",
       "      <td>256,293</td>\n",
       "      <td>12,676,042</td>\n",
       "      <td>242,907</td>\n",
       "      <td>12,023,652</td>\n",
       "      <td>652,390</td>\n",
       "    </tr>\n",
       "    <tr>\n",
       "      <th>3</th>\n",
       "      <td>2000.03</td>\n",
       "      <td>313,910</td>\n",
       "      <td>14,429,703</td>\n",
       "      <td>293,016</td>\n",
       "      <td>14,212,011</td>\n",
       "      <td>217,692</td>\n",
       "    </tr>\n",
       "    <tr>\n",
       "      <th>4</th>\n",
       "      <td>2000.04</td>\n",
       "      <td>293,464</td>\n",
       "      <td>13,522,040</td>\n",
       "      <td>268,239</td>\n",
       "      <td>13,344,532</td>\n",
       "      <td>177,508</td>\n",
       "    </tr>\n",
       "    <tr>\n",
       "      <th>5</th>\n",
       "      <td>2000.05</td>\n",
       "      <td>315,342</td>\n",
       "      <td>14,636,755</td>\n",
       "      <td>283,452</td>\n",
       "      <td>13,283,356</td>\n",
       "      <td>1,353,399</td>\n",
       "    </tr>\n",
       "  </tbody>\n",
       "</table>\n",
       "</div>"
      ],
      "text/plain": [
       "        기간                  수출건수                  수출금액                  수입건수  \\\n",
       "1  2000.01               258,896            12,162,425               246,432   \n",
       "2  2000.02               256,293            12,676,042               242,907   \n",
       "3  2000.03               313,910            14,429,703               293,016   \n",
       "4  2000.04               293,464            13,522,040               268,239   \n",
       "5  2000.05               315,342            14,636,755               283,452   \n",
       "\n",
       "                   수입금액                  무역수지  \n",
       "1            12,594,623              -432,198  \n",
       "2            12,023,652               652,390  \n",
       "3            14,212,011               217,692  \n",
       "4            13,344,532               177,508  \n",
       "5            13,283,356             1,353,399  "
      ]
     },
     "execution_count": 151,
     "metadata": {},
     "output_type": "execute_result"
    }
   ],
   "source": [
    "df.head()"
   ]
  },
  {
   "cell_type": "code",
   "execution_count": 174,
   "id": "be983e97-20f4-4e2b-9533-73ad89e1a56a",
   "metadata": {},
   "outputs": [],
   "source": [
    "X = df.iloc[:,1:]"
   ]
  },
  {
   "cell_type": "code",
   "execution_count": 115,
   "id": "8cd31479-8259-46cf-843a-e6430511e421",
   "metadata": {},
   "outputs": [
    {
     "data": {
      "text/html": [
       "<div>\n",
       "<style scoped>\n",
       "    .dataframe tbody tr th:only-of-type {\n",
       "        vertical-align: middle;\n",
       "    }\n",
       "\n",
       "    .dataframe tbody tr th {\n",
       "        vertical-align: top;\n",
       "    }\n",
       "\n",
       "    .dataframe thead th {\n",
       "        text-align: right;\n",
       "    }\n",
       "</style>\n",
       "<table border=\"1\" class=\"dataframe\">\n",
       "  <thead>\n",
       "    <tr style=\"text-align: right;\">\n",
       "      <th></th>\n",
       "      <th>수출건수</th>\n",
       "      <th>수출금액</th>\n",
       "      <th>수입건수</th>\n",
       "      <th>수입금액</th>\n",
       "      <th>무역수지</th>\n",
       "    </tr>\n",
       "  </thead>\n",
       "  <tbody>\n",
       "    <tr>\n",
       "      <th>1</th>\n",
       "      <td>258,896</td>\n",
       "      <td>12,162,425</td>\n",
       "      <td>246,432</td>\n",
       "      <td>12,594,623</td>\n",
       "      <td>-432,198</td>\n",
       "    </tr>\n",
       "    <tr>\n",
       "      <th>2</th>\n",
       "      <td>256,293</td>\n",
       "      <td>12,676,042</td>\n",
       "      <td>242,907</td>\n",
       "      <td>12,023,652</td>\n",
       "      <td>652,390</td>\n",
       "    </tr>\n",
       "    <tr>\n",
       "      <th>3</th>\n",
       "      <td>313,910</td>\n",
       "      <td>14,429,703</td>\n",
       "      <td>293,016</td>\n",
       "      <td>14,212,011</td>\n",
       "      <td>217,692</td>\n",
       "    </tr>\n",
       "    <tr>\n",
       "      <th>4</th>\n",
       "      <td>293,464</td>\n",
       "      <td>13,522,040</td>\n",
       "      <td>268,239</td>\n",
       "      <td>13,344,532</td>\n",
       "      <td>177,508</td>\n",
       "    </tr>\n",
       "    <tr>\n",
       "      <th>5</th>\n",
       "      <td>315,342</td>\n",
       "      <td>14,636,755</td>\n",
       "      <td>283,452</td>\n",
       "      <td>13,283,356</td>\n",
       "      <td>1,353,399</td>\n",
       "    </tr>\n",
       "  </tbody>\n",
       "</table>\n",
       "</div>"
      ],
      "text/plain": [
       "                   수출건수                  수출금액                  수입건수  \\\n",
       "1               258,896            12,162,425               246,432   \n",
       "2               256,293            12,676,042               242,907   \n",
       "3               313,910            14,429,703               293,016   \n",
       "4               293,464            13,522,040               268,239   \n",
       "5               315,342            14,636,755               283,452   \n",
       "\n",
       "                   수입금액                  무역수지  \n",
       "1            12,594,623              -432,198  \n",
       "2            12,023,652               652,390  \n",
       "3            14,212,011               217,692  \n",
       "4            13,344,532               177,508  \n",
       "5            13,283,356             1,353,399  "
      ]
     },
     "execution_count": 115,
     "metadata": {},
     "output_type": "execute_result"
    }
   ],
   "source": [
    "X.head()"
   ]
  },
  {
   "cell_type": "code",
   "execution_count": 116,
   "id": "1a878ea7-80f8-40fe-a95f-5853b5022914",
   "metadata": {},
   "outputs": [
    {
     "data": {
      "text/html": [
       "<div>\n",
       "<style scoped>\n",
       "    .dataframe tbody tr th:only-of-type {\n",
       "        vertical-align: middle;\n",
       "    }\n",
       "\n",
       "    .dataframe tbody tr th {\n",
       "        vertical-align: top;\n",
       "    }\n",
       "\n",
       "    .dataframe thead th {\n",
       "        text-align: right;\n",
       "    }\n",
       "</style>\n",
       "<table border=\"1\" class=\"dataframe\">\n",
       "  <thead>\n",
       "    <tr style=\"text-align: right;\">\n",
       "      <th></th>\n",
       "      <th>기간</th>\n",
       "      <th>수출건수</th>\n",
       "      <th>수출금액</th>\n",
       "      <th>수입건수</th>\n",
       "      <th>수입금액</th>\n",
       "      <th>무역수지</th>\n",
       "    </tr>\n",
       "  </thead>\n",
       "  <tbody>\n",
       "    <tr>\n",
       "      <th>1</th>\n",
       "      <td>2000.01</td>\n",
       "      <td>258,896</td>\n",
       "      <td>12,162,425</td>\n",
       "      <td>246,432</td>\n",
       "      <td>12,594,623</td>\n",
       "      <td>-432,198</td>\n",
       "    </tr>\n",
       "    <tr>\n",
       "      <th>2</th>\n",
       "      <td>2000.02</td>\n",
       "      <td>256,293</td>\n",
       "      <td>12,676,042</td>\n",
       "      <td>242,907</td>\n",
       "      <td>12,023,652</td>\n",
       "      <td>652,390</td>\n",
       "    </tr>\n",
       "    <tr>\n",
       "      <th>3</th>\n",
       "      <td>2000.03</td>\n",
       "      <td>313,910</td>\n",
       "      <td>14,429,703</td>\n",
       "      <td>293,016</td>\n",
       "      <td>14,212,011</td>\n",
       "      <td>217,692</td>\n",
       "    </tr>\n",
       "    <tr>\n",
       "      <th>4</th>\n",
       "      <td>2000.04</td>\n",
       "      <td>293,464</td>\n",
       "      <td>13,522,040</td>\n",
       "      <td>268,239</td>\n",
       "      <td>13,344,532</td>\n",
       "      <td>177,508</td>\n",
       "    </tr>\n",
       "    <tr>\n",
       "      <th>5</th>\n",
       "      <td>2000.05</td>\n",
       "      <td>315,342</td>\n",
       "      <td>14,636,755</td>\n",
       "      <td>283,452</td>\n",
       "      <td>13,283,356</td>\n",
       "      <td>1,353,399</td>\n",
       "    </tr>\n",
       "  </tbody>\n",
       "</table>\n",
       "</div>"
      ],
      "text/plain": [
       "        기간                  수출건수                  수출금액                  수입건수  \\\n",
       "1  2000.01               258,896            12,162,425               246,432   \n",
       "2  2000.02               256,293            12,676,042               242,907   \n",
       "3  2000.03               313,910            14,429,703               293,016   \n",
       "4  2000.04               293,464            13,522,040               268,239   \n",
       "5  2000.05               315,342            14,636,755               283,452   \n",
       "\n",
       "                   수입금액                  무역수지  \n",
       "1            12,594,623              -432,198  \n",
       "2            12,023,652               652,390  \n",
       "3            14,212,011               217,692  \n",
       "4            13,344,532               177,508  \n",
       "5            13,283,356             1,353,399  "
      ]
     },
     "execution_count": 116,
     "metadata": {},
     "output_type": "execute_result"
    }
   ],
   "source": [
    "df.head()"
   ]
  },
  {
   "cell_type": "code",
   "execution_count": 168,
   "id": "05e0f62c-3dc3-4469-a429-343ecac9c4f7",
   "metadata": {},
   "outputs": [
    {
     "data": {
      "text/html": [
       "<div>\n",
       "<style scoped>\n",
       "    .dataframe tbody tr th:only-of-type {\n",
       "        vertical-align: middle;\n",
       "    }\n",
       "\n",
       "    .dataframe tbody tr th {\n",
       "        vertical-align: top;\n",
       "    }\n",
       "\n",
       "    .dataframe thead th {\n",
       "        text-align: right;\n",
       "    }\n",
       "</style>\n",
       "<table border=\"1\" class=\"dataframe\">\n",
       "  <thead>\n",
       "    <tr style=\"text-align: right;\">\n",
       "      <th></th>\n",
       "      <th>기간</th>\n",
       "      <th>수출건수</th>\n",
       "      <th>수출금액</th>\n",
       "      <th>수입건수</th>\n",
       "      <th>수입금액</th>\n",
       "      <th>무역수지</th>\n",
       "    </tr>\n",
       "  </thead>\n",
       "  <tbody>\n",
       "    <tr>\n",
       "      <th>1</th>\n",
       "      <td>2000.01</td>\n",
       "      <td>258,896</td>\n",
       "      <td>12,162,425</td>\n",
       "      <td>246,432</td>\n",
       "      <td>12,594,623</td>\n",
       "      <td>-432,198</td>\n",
       "    </tr>\n",
       "    <tr>\n",
       "      <th>2</th>\n",
       "      <td>2000.02</td>\n",
       "      <td>256,293</td>\n",
       "      <td>12,676,042</td>\n",
       "      <td>242,907</td>\n",
       "      <td>12,023,652</td>\n",
       "      <td>652,390</td>\n",
       "    </tr>\n",
       "    <tr>\n",
       "      <th>3</th>\n",
       "      <td>2000.03</td>\n",
       "      <td>313,910</td>\n",
       "      <td>14,429,703</td>\n",
       "      <td>293,016</td>\n",
       "      <td>14,212,011</td>\n",
       "      <td>217,692</td>\n",
       "    </tr>\n",
       "    <tr>\n",
       "      <th>4</th>\n",
       "      <td>2000.04</td>\n",
       "      <td>293,464</td>\n",
       "      <td>13,522,040</td>\n",
       "      <td>268,239</td>\n",
       "      <td>13,344,532</td>\n",
       "      <td>177,508</td>\n",
       "    </tr>\n",
       "    <tr>\n",
       "      <th>5</th>\n",
       "      <td>2000.05</td>\n",
       "      <td>315,342</td>\n",
       "      <td>14,636,755</td>\n",
       "      <td>283,452</td>\n",
       "      <td>13,283,356</td>\n",
       "      <td>1,353,399</td>\n",
       "    </tr>\n",
       "  </tbody>\n",
       "</table>\n",
       "</div>"
      ],
      "text/plain": [
       "        기간                  수출건수                  수출금액                  수입건수  \\\n",
       "1  2000.01               258,896            12,162,425               246,432   \n",
       "2  2000.02               256,293            12,676,042               242,907   \n",
       "3  2000.03               313,910            14,429,703               293,016   \n",
       "4  2000.04               293,464            13,522,040               268,239   \n",
       "5  2000.05               315,342            14,636,755               283,452   \n",
       "\n",
       "                   수입금액                  무역수지  \n",
       "1            12,594,623              -432,198  \n",
       "2            12,023,652               652,390  \n",
       "3            14,212,011               217,692  \n",
       "4            13,344,532               177,508  \n",
       "5            13,283,356             1,353,399  "
      ]
     },
     "execution_count": 168,
     "metadata": {},
     "output_type": "execute_result"
    }
   ],
   "source": [
    "df.head()"
   ]
  },
  {
   "cell_type": "code",
   "execution_count": 175,
   "id": "c1ca58e5-2661-4e04-8d06-b5a75bea9ca7",
   "metadata": {},
   "outputs": [],
   "source": [
    "y = df['기간']"
   ]
  },
  {
   "cell_type": "code",
   "execution_count": 176,
   "id": "d345e2ed-69d6-43ee-9a5d-712c220cfede",
   "metadata": {},
   "outputs": [],
   "source": [
    "X = X.values.reshape(-1,5)"
   ]
  },
  {
   "cell_type": "code",
   "execution_count": 177,
   "id": "633a1253-b26f-4856-bf84-06d6a67d632d",
   "metadata": {},
   "outputs": [],
   "source": [
    "from sklearn.model_selection import train_test_split\n",
    "X_train,X_test,y_train,y_test = train_test_split(X,y,test_size=0.1)"
   ]
  },
  {
   "cell_type": "code",
   "execution_count": 178,
   "id": "03cd513c-dd70-474c-993e-c0fbe40b059d",
   "metadata": {},
   "outputs": [
    {
     "data": {
      "text/plain": [
       "(233, 5)"
      ]
     },
     "execution_count": 178,
     "metadata": {},
     "output_type": "execute_result"
    }
   ],
   "source": [
    "X_train.shape"
   ]
  },
  {
   "cell_type": "code",
   "execution_count": 179,
   "id": "97c91398-6b77-4b3e-94df-e6d7c79a37e2",
   "metadata": {},
   "outputs": [
    {
     "data": {
      "text/plain": [
       "(26, 5)"
      ]
     },
     "execution_count": 179,
     "metadata": {},
     "output_type": "execute_result"
    }
   ],
   "source": [
    "X_test.shape"
   ]
  },
  {
   "cell_type": "code",
   "execution_count": 180,
   "id": "b118848a-6fe6-4a09-a83f-fc9013d2cdf4",
   "metadata": {},
   "outputs": [],
   "source": [
    "X_test[0][0] = X_test[0][0].strip()"
   ]
  },
  {
   "cell_type": "code",
   "execution_count": 181,
   "id": "604ad5de-5957-4d1b-a3e9-524a31c59ebe",
   "metadata": {
    "tags": []
   },
   "outputs": [],
   "source": [
    "for i in range(len(X_test)):\n",
    "    for j in range(5):\n",
    "        X_test[i][j] = X_test[i][j].strip()"
   ]
  },
  {
   "cell_type": "code",
   "execution_count": 182,
   "id": "9bd0948b-3e91-4b03-abba-007e4196442e",
   "metadata": {
    "tags": []
   },
   "outputs": [
    {
     "data": {
      "text/plain": [
       "array([['395,862', '23,076,612', '382,084', '20,311,965', '2,764,647'],\n",
       "       ['430,438', '30,207,444', '475,429', '29,223,201', '984,243'],\n",
       "       ['671,793', '41,081,553', '1,292,895', '32,388,783', '8,692,770'],\n",
       "       ['399,190', '22,872,505', '405,755', '21,244,490', '1,628,014'],\n",
       "       ['564,264', '47,329,817', '1,060,246', '45,053,406', '2,276,411'],\n",
       "       ['459,431', '35,991,776', '530,464', '37,110,561', '-1,118,785'],\n",
       "       ['313,861', '13,306,959', '277,514', '11,554,834', '1,752,125'],\n",
       "       ['596,021', '49,461,377', '1,398,481', '43,909,896', '5,551,481'],\n",
       "       ['315,342', '14,636,755', '283,452', '13,283,356', '1,353,399'],\n",
       "       ['434,003', '28,949,627', '562,740', '27,408,191', '1,541,437'],\n",
       "       ['299,381', '11,766,192', '273,851', '11,337,826', '428,366'],\n",
       "       ['595,321', '47,905,028', '1,320,938', '43,106,074', '4,798,954'],\n",
       "       ['315,351', '14,989,068', '288,458', '14,160,418', '828,650'],\n",
       "       ['648,450', '50,843,799', '1,509,868', '37,959,391', '12,884,408'],\n",
       "       ['358,783', '14,676,092', '322,745', '13,523,642', '1,152,450'],\n",
       "       ['580,722', '47,805,246', '1,014,047', '43,381,537', '4,423,709'],\n",
       "       ['564,950', '45,105,389', '1,291,482', '39,283,025', '5,822,365'],\n",
       "       ['474,626', '37,850,247', '538,047', '38,260,401', '-410,154'],\n",
       "       ['591,768', '46,554,512', '1,261,592', '36,598,398', '9,956,114'],\n",
       "       ['419,401', '25,826,192', '436,228', '23,849,552', '1,976,641'],\n",
       "       ['497,032', '31,908,462', '596,970', '27,679,764', '4,228,698'],\n",
       "       ['363,841', '14,173,177', '332,749', '12,698,101', '1,475,075'],\n",
       "       ['991,924', '44,710,025', '2,779,581', '42,276,684', '2,433,340'],\n",
       "       ['583,813', '47,577,183', '1,517,623', '42,607,483', '4,969,700'],\n",
       "       ['552,719', '47,162,605', '953,327', '41,993,629', '5,168,976'],\n",
       "       ['618,379', '49,064,392', '1,522,225', '45,558,675', '3,505,717']],\n",
       "      dtype=object)"
      ]
     },
     "execution_count": 182,
     "metadata": {},
     "output_type": "execute_result"
    }
   ],
   "source": [
    "X_test"
   ]
  },
  {
   "cell_type": "code",
   "execution_count": 184,
   "id": "3d41c10d-7655-4389-a90e-d9888b4c356f",
   "metadata": {},
   "outputs": [],
   "source": [
    "for i in range(len(X_train)):\n",
    "    for j in range(5):\n",
    "        X_train[i][j] = X_train[i][j].strip()"
   ]
  },
  {
   "cell_type": "code",
   "execution_count": 188,
   "id": "7b1c893b-db3f-4660-a29a-755aae4c2a8e",
   "metadata": {
    "tags": []
   },
   "outputs": [],
   "source": [
    "X_train = pd.DataFrame(X_train)"
   ]
  },
  {
   "cell_type": "code",
   "execution_count": 166,
   "id": "4582cdb8-fba3-4390-ae6b-73456f3a5eea",
   "metadata": {},
   "outputs": [
    {
     "data": {
      "text/plain": [
       "Index(['기간', '수출건수', '수출금액', '수입건수', '수입금액', '무역수지'], dtype='object')"
      ]
     },
     "execution_count": 166,
     "metadata": {},
     "output_type": "execute_result"
    }
   ],
   "source": [
    "df.columns"
   ]
  },
  {
   "cell_type": "code",
   "execution_count": 167,
   "id": "c71c0a18-d879-4ac4-aa7e-3342f82f71d6",
   "metadata": {},
   "outputs": [],
   "source": [
    "for i in df.columns:\n",
    "    df[i] = pd.to_numeric(df[i], errors='ignore')\n"
   ]
  },
  {
   "cell_type": "code",
   "execution_count": 186,
   "id": "d1d7fb14-d05c-430c-bb23-5b3cf5ddb30b",
   "metadata": {},
   "outputs": [
    {
     "ename": "ValueError",
     "evalue": "could not convert string to float: '427,265'",
     "output_type": "error",
     "traceback": [
      "\u001b[1;31m---------------------------------------------------------------------------\u001b[0m",
      "\u001b[1;31mValueError\u001b[0m                                Traceback (most recent call last)",
      "\u001b[1;32m<ipython-input-186-04e73810eb53>\u001b[0m in \u001b[0;36m<module>\u001b[1;34m\u001b[0m\n\u001b[0;32m      1\u001b[0m \u001b[1;32mfrom\u001b[0m \u001b[0msklearn\u001b[0m\u001b[1;33m.\u001b[0m\u001b[0mtree\u001b[0m \u001b[1;32mimport\u001b[0m \u001b[0mDecisionTreeClassifier\u001b[0m\u001b[1;33m\u001b[0m\u001b[1;33m\u001b[0m\u001b[0m\n\u001b[0;32m      2\u001b[0m \u001b[0mdt_clf\u001b[0m \u001b[1;33m=\u001b[0m \u001b[0mDecisionTreeClassifier\u001b[0m\u001b[1;33m(\u001b[0m\u001b[0mrandom_state\u001b[0m\u001b[1;33m=\u001b[0m\u001b[1;36m156\u001b[0m\u001b[1;33m)\u001b[0m\u001b[1;33m\u001b[0m\u001b[1;33m\u001b[0m\u001b[0m\n\u001b[1;32m----> 3\u001b[1;33m \u001b[0mdt_clf\u001b[0m\u001b[1;33m.\u001b[0m\u001b[0mfit\u001b[0m\u001b[1;33m(\u001b[0m\u001b[0mX_train\u001b[0m\u001b[1;33m,\u001b[0m\u001b[0my_train\u001b[0m\u001b[1;33m)\u001b[0m\u001b[1;33m\u001b[0m\u001b[1;33m\u001b[0m\u001b[0m\n\u001b[0m",
      "\u001b[1;32m~\\miniconda3\\lib\\site-packages\\sklearn\\tree\\_classes.py\u001b[0m in \u001b[0;36mfit\u001b[1;34m(self, X, y, sample_weight, check_input, X_idx_sorted)\u001b[0m\n\u001b[0;32m    901\u001b[0m         \"\"\"\n\u001b[0;32m    902\u001b[0m \u001b[1;33m\u001b[0m\u001b[0m\n\u001b[1;32m--> 903\u001b[1;33m         super().fit(\n\u001b[0m\u001b[0;32m    904\u001b[0m             \u001b[0mX\u001b[0m\u001b[1;33m,\u001b[0m \u001b[0my\u001b[0m\u001b[1;33m,\u001b[0m\u001b[1;33m\u001b[0m\u001b[1;33m\u001b[0m\u001b[0m\n\u001b[0;32m    905\u001b[0m             \u001b[0msample_weight\u001b[0m\u001b[1;33m=\u001b[0m\u001b[0msample_weight\u001b[0m\u001b[1;33m,\u001b[0m\u001b[1;33m\u001b[0m\u001b[1;33m\u001b[0m\u001b[0m\n",
      "\u001b[1;32m~\\miniconda3\\lib\\site-packages\\sklearn\\tree\\_classes.py\u001b[0m in \u001b[0;36mfit\u001b[1;34m(self, X, y, sample_weight, check_input, X_idx_sorted)\u001b[0m\n\u001b[0;32m    155\u001b[0m             \u001b[0mcheck_X_params\u001b[0m \u001b[1;33m=\u001b[0m \u001b[0mdict\u001b[0m\u001b[1;33m(\u001b[0m\u001b[0mdtype\u001b[0m\u001b[1;33m=\u001b[0m\u001b[0mDTYPE\u001b[0m\u001b[1;33m,\u001b[0m \u001b[0maccept_sparse\u001b[0m\u001b[1;33m=\u001b[0m\u001b[1;34m\"csc\"\u001b[0m\u001b[1;33m)\u001b[0m\u001b[1;33m\u001b[0m\u001b[1;33m\u001b[0m\u001b[0m\n\u001b[0;32m    156\u001b[0m             \u001b[0mcheck_y_params\u001b[0m \u001b[1;33m=\u001b[0m \u001b[0mdict\u001b[0m\u001b[1;33m(\u001b[0m\u001b[0mensure_2d\u001b[0m\u001b[1;33m=\u001b[0m\u001b[1;32mFalse\u001b[0m\u001b[1;33m,\u001b[0m \u001b[0mdtype\u001b[0m\u001b[1;33m=\u001b[0m\u001b[1;32mNone\u001b[0m\u001b[1;33m)\u001b[0m\u001b[1;33m\u001b[0m\u001b[1;33m\u001b[0m\u001b[0m\n\u001b[1;32m--> 157\u001b[1;33m             X, y = self._validate_data(X, y,\n\u001b[0m\u001b[0;32m    158\u001b[0m                                        validate_separately=(check_X_params,\n\u001b[0;32m    159\u001b[0m                                                             check_y_params))\n",
      "\u001b[1;32m~\\miniconda3\\lib\\site-packages\\sklearn\\base.py\u001b[0m in \u001b[0;36m_validate_data\u001b[1;34m(self, X, y, reset, validate_separately, **check_params)\u001b[0m\n\u001b[0;32m    428\u001b[0m                 \u001b[1;31m# :(\u001b[0m\u001b[1;33m\u001b[0m\u001b[1;33m\u001b[0m\u001b[1;33m\u001b[0m\u001b[0m\n\u001b[0;32m    429\u001b[0m                 \u001b[0mcheck_X_params\u001b[0m\u001b[1;33m,\u001b[0m \u001b[0mcheck_y_params\u001b[0m \u001b[1;33m=\u001b[0m \u001b[0mvalidate_separately\u001b[0m\u001b[1;33m\u001b[0m\u001b[1;33m\u001b[0m\u001b[0m\n\u001b[1;32m--> 430\u001b[1;33m                 \u001b[0mX\u001b[0m \u001b[1;33m=\u001b[0m \u001b[0mcheck_array\u001b[0m\u001b[1;33m(\u001b[0m\u001b[0mX\u001b[0m\u001b[1;33m,\u001b[0m \u001b[1;33m**\u001b[0m\u001b[0mcheck_X_params\u001b[0m\u001b[1;33m)\u001b[0m\u001b[1;33m\u001b[0m\u001b[1;33m\u001b[0m\u001b[0m\n\u001b[0m\u001b[0;32m    431\u001b[0m                 \u001b[0my\u001b[0m \u001b[1;33m=\u001b[0m \u001b[0mcheck_array\u001b[0m\u001b[1;33m(\u001b[0m\u001b[0my\u001b[0m\u001b[1;33m,\u001b[0m \u001b[1;33m**\u001b[0m\u001b[0mcheck_y_params\u001b[0m\u001b[1;33m)\u001b[0m\u001b[1;33m\u001b[0m\u001b[1;33m\u001b[0m\u001b[0m\n\u001b[0;32m    432\u001b[0m             \u001b[1;32melse\u001b[0m\u001b[1;33m:\u001b[0m\u001b[1;33m\u001b[0m\u001b[1;33m\u001b[0m\u001b[0m\n",
      "\u001b[1;32m~\\miniconda3\\lib\\site-packages\\sklearn\\utils\\validation.py\u001b[0m in \u001b[0;36minner_f\u001b[1;34m(*args, **kwargs)\u001b[0m\n\u001b[0;32m     61\u001b[0m             \u001b[0mextra_args\u001b[0m \u001b[1;33m=\u001b[0m \u001b[0mlen\u001b[0m\u001b[1;33m(\u001b[0m\u001b[0margs\u001b[0m\u001b[1;33m)\u001b[0m \u001b[1;33m-\u001b[0m \u001b[0mlen\u001b[0m\u001b[1;33m(\u001b[0m\u001b[0mall_args\u001b[0m\u001b[1;33m)\u001b[0m\u001b[1;33m\u001b[0m\u001b[1;33m\u001b[0m\u001b[0m\n\u001b[0;32m     62\u001b[0m             \u001b[1;32mif\u001b[0m \u001b[0mextra_args\u001b[0m \u001b[1;33m<=\u001b[0m \u001b[1;36m0\u001b[0m\u001b[1;33m:\u001b[0m\u001b[1;33m\u001b[0m\u001b[1;33m\u001b[0m\u001b[0m\n\u001b[1;32m---> 63\u001b[1;33m                 \u001b[1;32mreturn\u001b[0m \u001b[0mf\u001b[0m\u001b[1;33m(\u001b[0m\u001b[1;33m*\u001b[0m\u001b[0margs\u001b[0m\u001b[1;33m,\u001b[0m \u001b[1;33m**\u001b[0m\u001b[0mkwargs\u001b[0m\u001b[1;33m)\u001b[0m\u001b[1;33m\u001b[0m\u001b[1;33m\u001b[0m\u001b[0m\n\u001b[0m\u001b[0;32m     64\u001b[0m \u001b[1;33m\u001b[0m\u001b[0m\n\u001b[0;32m     65\u001b[0m             \u001b[1;31m# extra_args > 0\u001b[0m\u001b[1;33m\u001b[0m\u001b[1;33m\u001b[0m\u001b[1;33m\u001b[0m\u001b[0m\n",
      "\u001b[1;32m~\\miniconda3\\lib\\site-packages\\sklearn\\utils\\validation.py\u001b[0m in \u001b[0;36mcheck_array\u001b[1;34m(array, accept_sparse, accept_large_sparse, dtype, order, copy, force_all_finite, ensure_2d, allow_nd, ensure_min_samples, ensure_min_features, estimator)\u001b[0m\n\u001b[0;32m    671\u001b[0m                     \u001b[0marray\u001b[0m \u001b[1;33m=\u001b[0m \u001b[0marray\u001b[0m\u001b[1;33m.\u001b[0m\u001b[0mastype\u001b[0m\u001b[1;33m(\u001b[0m\u001b[0mdtype\u001b[0m\u001b[1;33m,\u001b[0m \u001b[0mcasting\u001b[0m\u001b[1;33m=\u001b[0m\u001b[1;34m\"unsafe\"\u001b[0m\u001b[1;33m,\u001b[0m \u001b[0mcopy\u001b[0m\u001b[1;33m=\u001b[0m\u001b[1;32mFalse\u001b[0m\u001b[1;33m)\u001b[0m\u001b[1;33m\u001b[0m\u001b[1;33m\u001b[0m\u001b[0m\n\u001b[0;32m    672\u001b[0m                 \u001b[1;32melse\u001b[0m\u001b[1;33m:\u001b[0m\u001b[1;33m\u001b[0m\u001b[1;33m\u001b[0m\u001b[0m\n\u001b[1;32m--> 673\u001b[1;33m                     \u001b[0marray\u001b[0m \u001b[1;33m=\u001b[0m \u001b[0mnp\u001b[0m\u001b[1;33m.\u001b[0m\u001b[0masarray\u001b[0m\u001b[1;33m(\u001b[0m\u001b[0marray\u001b[0m\u001b[1;33m,\u001b[0m \u001b[0morder\u001b[0m\u001b[1;33m=\u001b[0m\u001b[0morder\u001b[0m\u001b[1;33m,\u001b[0m \u001b[0mdtype\u001b[0m\u001b[1;33m=\u001b[0m\u001b[0mdtype\u001b[0m\u001b[1;33m)\u001b[0m\u001b[1;33m\u001b[0m\u001b[1;33m\u001b[0m\u001b[0m\n\u001b[0m\u001b[0;32m    674\u001b[0m             \u001b[1;32mexcept\u001b[0m \u001b[0mComplexWarning\u001b[0m \u001b[1;32mas\u001b[0m \u001b[0mcomplex_warning\u001b[0m\u001b[1;33m:\u001b[0m\u001b[1;33m\u001b[0m\u001b[1;33m\u001b[0m\u001b[0m\n\u001b[0;32m    675\u001b[0m                 raise ValueError(\"Complex data not supported\\n\"\n",
      "\u001b[1;32m~\\miniconda3\\lib\\site-packages\\numpy\\core\\_asarray.py\u001b[0m in \u001b[0;36masarray\u001b[1;34m(a, dtype, order, like)\u001b[0m\n\u001b[0;32m    100\u001b[0m         \u001b[1;32mreturn\u001b[0m \u001b[0m_asarray_with_like\u001b[0m\u001b[1;33m(\u001b[0m\u001b[0ma\u001b[0m\u001b[1;33m,\u001b[0m \u001b[0mdtype\u001b[0m\u001b[1;33m=\u001b[0m\u001b[0mdtype\u001b[0m\u001b[1;33m,\u001b[0m \u001b[0morder\u001b[0m\u001b[1;33m=\u001b[0m\u001b[0morder\u001b[0m\u001b[1;33m,\u001b[0m \u001b[0mlike\u001b[0m\u001b[1;33m=\u001b[0m\u001b[0mlike\u001b[0m\u001b[1;33m)\u001b[0m\u001b[1;33m\u001b[0m\u001b[1;33m\u001b[0m\u001b[0m\n\u001b[0;32m    101\u001b[0m \u001b[1;33m\u001b[0m\u001b[0m\n\u001b[1;32m--> 102\u001b[1;33m     \u001b[1;32mreturn\u001b[0m \u001b[0marray\u001b[0m\u001b[1;33m(\u001b[0m\u001b[0ma\u001b[0m\u001b[1;33m,\u001b[0m \u001b[0mdtype\u001b[0m\u001b[1;33m,\u001b[0m \u001b[0mcopy\u001b[0m\u001b[1;33m=\u001b[0m\u001b[1;32mFalse\u001b[0m\u001b[1;33m,\u001b[0m \u001b[0morder\u001b[0m\u001b[1;33m=\u001b[0m\u001b[0morder\u001b[0m\u001b[1;33m)\u001b[0m\u001b[1;33m\u001b[0m\u001b[1;33m\u001b[0m\u001b[0m\n\u001b[0m\u001b[0;32m    103\u001b[0m \u001b[1;33m\u001b[0m\u001b[0m\n\u001b[0;32m    104\u001b[0m \u001b[1;33m\u001b[0m\u001b[0m\n",
      "\u001b[1;31mValueError\u001b[0m: could not convert string to float: '427,265'"
     ]
    }
   ],
   "source": [
    "from sklearn.tree import DecisionTreeClassifier\n",
    "dt_clf = DecisionTreeClassifier(random_state=156)\n",
    "dt_clf.fit(X_train,y_train)"
   ]
  },
  {
   "cell_type": "code",
   "execution_count": null,
   "id": "0d9c2fdb-3d7a-45e6-8fc7-629f0ac0b319",
   "metadata": {},
   "outputs": [],
   "source": []
  }
 ],
 "metadata": {
  "kernelspec": {
   "display_name": "Python 3",
   "language": "python",
   "name": "python3"
  },
  "language_info": {
   "codemirror_mode": {
    "name": "ipython",
    "version": 3
   },
   "file_extension": ".py",
   "mimetype": "text/x-python",
   "name": "python",
   "nbconvert_exporter": "python",
   "pygments_lexer": "ipython3",
   "version": "3.9.1"
  }
 },
 "nbformat": 4,
 "nbformat_minor": 5
}
