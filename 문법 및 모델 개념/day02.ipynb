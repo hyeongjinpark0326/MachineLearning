{
 "cells": [
  {
   "cell_type": "markdown",
   "id": "df626226-a551-4025-89fe-a3f5f16e9994",
   "metadata": {},
   "source": [
    "# 학습 테스트 데이터 분리X"
   ]
  },
  {
   "cell_type": "code",
   "execution_count": 1,
   "id": "44567c4f-f656-4e0d-a91f-1d974a8f27da",
   "metadata": {},
   "outputs": [],
   "source": [
    "from sklearn.datasets import load_iris\n",
    "from sklearn.tree import DecisionTreeClassifier\n",
    "from sklearn.metrics import accuracy_score"
   ]
  },
  {
   "cell_type": "code",
   "execution_count": 2,
   "id": "546317b4-a9db-4f53-9f43-588532cc23f8",
   "metadata": {},
   "outputs": [
    {
     "data": {
      "text/plain": [
       "1.0"
      ]
     },
     "execution_count": 2,
     "metadata": {},
     "output_type": "execute_result"
    }
   ],
   "source": [
    "iris = load_iris()\n",
    "dt_clf = DecisionTreeClassifier()\n",
    "dt_clf.fit(iris.data, iris.target)\n",
    "\n",
    "# 학습 데이터 세트로 예측 수행\n",
    "pred = dt_clf.predict(iris.data)\n",
    "accuracy_score(iris.target, pred)"
   ]
  },
  {
   "cell_type": "code",
   "execution_count": 3,
   "id": "6d335afb-207e-4674-ac4b-5c83c61c6d5b",
   "metadata": {},
   "outputs": [
    {
     "data": {
      "text/plain": [
       "array([0])"
      ]
     },
     "execution_count": 3,
     "metadata": {},
     "output_type": "execute_result"
    }
   ],
   "source": [
    "dt_clf.predict([[4.2, 2.5, 0.1, 1.2]])"
   ]
  },
  {
   "cell_type": "code",
   "execution_count": null,
   "id": "b82af1fb-2172-465a-bb81-b58cf90fb66d",
   "metadata": {},
   "outputs": [],
   "source": []
  },
  {
   "cell_type": "markdown",
   "id": "5e564781-b7c4-414a-8e35-871964d44794",
   "metadata": {},
   "source": [
    "# 학습/테스트 데이터 분리O"
   ]
  },
  {
   "cell_type": "code",
   "execution_count": 9,
   "id": "a0963c46-78ab-46f5-8681-7945f03ad241",
   "metadata": {},
   "outputs": [],
   "source": [
    "from sklearn.datasets import load_iris\n",
    "from sklearn.tree import DecisionTreeClassifier\n",
    "from sklearn.metrics import accuracy_score\n",
    "from sklearn.model_selection import train_test_split"
   ]
  },
  {
   "cell_type": "code",
   "execution_count": 8,
   "id": "0562e7fe-c97b-4e57-9bf6-b3a8d503790d",
   "metadata": {},
   "outputs": [
    {
     "data": {
      "text/plain": [
       "array(['setosa', 'versicolor', 'virginica'], dtype='<U10')"
      ]
     },
     "execution_count": 8,
     "metadata": {},
     "output_type": "execute_result"
    }
   ],
   "source": [
    "iris.target_names"
   ]
  },
  {
   "cell_type": "code",
   "execution_count": 7,
   "id": "19ff75ff-d880-4afa-8e73-deb8aec703ab",
   "metadata": {},
   "outputs": [
    {
     "data": {
      "text/plain": [
       "array([0, 0, 0, 0, 0, 0, 0, 0, 0, 0, 0, 0, 0, 0, 0, 0, 0, 0, 0, 0, 0, 0,\n",
       "       0, 0, 0, 0, 0, 0, 0, 0, 0, 0, 0, 0, 0, 0, 0, 0, 0, 0, 0, 0, 0, 0,\n",
       "       0, 0, 0, 0, 0, 0, 1, 1, 1, 1, 1, 1, 1, 1, 1, 1, 1, 1, 1, 1, 1, 1,\n",
       "       1, 1, 1, 1, 1, 1, 1, 1, 1, 1, 1, 1, 1, 1, 1, 1, 1, 1, 1, 1, 1, 1,\n",
       "       1, 1, 1, 1, 1, 1, 1, 1, 1, 1, 1, 1, 2, 2, 2, 2, 2, 2, 2, 2, 2, 2,\n",
       "       2, 2, 2, 2, 2, 2, 2, 2, 2, 2, 2, 2, 2, 2, 2, 2, 2, 2, 2, 2, 2, 2,\n",
       "       2, 2, 2, 2, 2, 2, 2, 2, 2, 2, 2, 2, 2, 2, 2, 2, 2, 2])"
      ]
     },
     "execution_count": 7,
     "metadata": {},
     "output_type": "execute_result"
    }
   ],
   "source": [
    "iris.target"
   ]
  },
  {
   "cell_type": "code",
   "execution_count": 10,
   "id": "eed7f1e0-ea04-4306-92ca-2964af03af73",
   "metadata": {
    "collapsed": true,
    "jupyter": {
     "outputs_hidden": true
    },
    "tags": []
   },
   "outputs": [
    {
     "data": {
      "text/plain": [
       "[array([[4.7, 3.2, 1.3, 0.2],\n",
       "        [5.9, 3. , 5.1, 1.8],\n",
       "        [6.7, 2.5, 5.8, 1.8],\n",
       "        [4.9, 3.1, 1.5, 0.1],\n",
       "        [5.5, 3.5, 1.3, 0.2],\n",
       "        [5.5, 2.4, 3.8, 1.1],\n",
       "        [6. , 3. , 4.8, 1.8],\n",
       "        [5. , 3.2, 1.2, 0.2],\n",
       "        [5.2, 3.5, 1.5, 0.2],\n",
       "        [6.3, 2.9, 5.6, 1.8],\n",
       "        [5.5, 2.6, 4.4, 1.2],\n",
       "        [5.8, 4. , 1.2, 0.2],\n",
       "        [5.6, 2.7, 4.2, 1.3],\n",
       "        [6.3, 2.5, 5. , 1.9],\n",
       "        [5.8, 2.6, 4. , 1.2],\n",
       "        [6.3, 3.4, 5.6, 2.4],\n",
       "        [6.5, 3. , 5.5, 1.8],\n",
       "        [5.7, 3. , 4.2, 1.2],\n",
       "        [5.8, 2.7, 3.9, 1.2],\n",
       "        [5.8, 2.7, 4.1, 1. ],\n",
       "        [6.4, 2.9, 4.3, 1.3],\n",
       "        [5.6, 2.9, 3.6, 1.3],\n",
       "        [6.8, 3. , 5.5, 2.1],\n",
       "        [5.5, 2.4, 3.7, 1. ],\n",
       "        [5.1, 3.5, 1.4, 0.3],\n",
       "        [4.8, 3. , 1.4, 0.3],\n",
       "        [4.6, 3.2, 1.4, 0.2],\n",
       "        [5.5, 2.5, 4. , 1.3],\n",
       "        [4.8, 3.1, 1.6, 0.2],\n",
       "        [6.1, 3. , 4.6, 1.4],\n",
       "        [5.1, 3.8, 1.5, 0.3],\n",
       "        [6.5, 2.8, 4.6, 1.5],\n",
       "        [5.4, 3.9, 1.7, 0.4],\n",
       "        [6.3, 2.5, 4.9, 1.5],\n",
       "        [5.4, 3.9, 1.3, 0.4],\n",
       "        [4.6, 3.6, 1. , 0.2],\n",
       "        [5.4, 3.4, 1.5, 0.4],\n",
       "        [6.3, 3.3, 4.7, 1.6],\n",
       "        [5.1, 2.5, 3. , 1.1],\n",
       "        [6.2, 2.8, 4.8, 1.8],\n",
       "        [7.3, 2.9, 6.3, 1.8],\n",
       "        [5.9, 3. , 4.2, 1.5],\n",
       "        [6.2, 3.4, 5.4, 2.3],\n",
       "        [6.4, 3.1, 5.5, 1.8],\n",
       "        [4.6, 3.1, 1.5, 0.2],\n",
       "        [4.7, 3.2, 1.6, 0.2],\n",
       "        [6.6, 3. , 4.4, 1.4],\n",
       "        [5.8, 2.8, 5.1, 2.4],\n",
       "        [5.6, 3. , 4.5, 1.5],\n",
       "        [5.4, 3.7, 1.5, 0.2],\n",
       "        [6.4, 2.8, 5.6, 2.1],\n",
       "        [6.2, 2.2, 4.5, 1.5],\n",
       "        [6. , 3.4, 4.5, 1.6],\n",
       "        [6.7, 3.1, 4.4, 1.4],\n",
       "        [6.9, 3.1, 5.1, 2.3],\n",
       "        [5.2, 4.1, 1.5, 0.1],\n",
       "        [5.3, 3.7, 1.5, 0.2],\n",
       "        [6.5, 3.2, 5.1, 2. ],\n",
       "        [6.5, 3. , 5.8, 2.2],\n",
       "        [5.9, 3.2, 4.8, 1.8],\n",
       "        [4.4, 3.2, 1.3, 0.2],\n",
       "        [7.7, 2.8, 6.7, 2. ],\n",
       "        [5.4, 3. , 4.5, 1.5],\n",
       "        [6.1, 2.8, 4. , 1.3],\n",
       "        [6.5, 3. , 5.2, 2. ],\n",
       "        [4.4, 2.9, 1.4, 0.2],\n",
       "        [5. , 3.6, 1.4, 0.2],\n",
       "        [5.5, 4.2, 1.4, 0.2],\n",
       "        [4.5, 2.3, 1.3, 0.3],\n",
       "        [4.8, 3.4, 1.6, 0.2],\n",
       "        [5. , 3.5, 1.3, 0.3],\n",
       "        [5. , 3.4, 1.5, 0.2],\n",
       "        [6.3, 2.7, 4.9, 1.8],\n",
       "        [5. , 3.4, 1.6, 0.4],\n",
       "        [5.6, 2.8, 4.9, 2. ],\n",
       "        [5.6, 3. , 4.1, 1.3],\n",
       "        [4.9, 2.4, 3.3, 1. ],\n",
       "        [6.6, 2.9, 4.6, 1.3],\n",
       "        [7.2, 3.2, 6. , 1.8],\n",
       "        [4.3, 3. , 1.1, 0.1],\n",
       "        [5.7, 3.8, 1.7, 0.3],\n",
       "        [5.6, 2.5, 3.9, 1.1],\n",
       "        [6. , 2.2, 4. , 1. ],\n",
       "        [6.9, 3.2, 5.7, 2.3],\n",
       "        [6.7, 3.3, 5.7, 2.5],\n",
       "        [6.2, 2.9, 4.3, 1.3],\n",
       "        [6. , 2.2, 5. , 1.5],\n",
       "        [6.3, 2.3, 4.4, 1.3],\n",
       "        [4.4, 3. , 1.3, 0.2],\n",
       "        [5.8, 2.7, 5.1, 1.9],\n",
       "        [6.7, 3.3, 5.7, 2.1],\n",
       "        [5.1, 3.8, 1.9, 0.4],\n",
       "        [6.4, 2.8, 5.6, 2.2],\n",
       "        [7.2, 3. , 5.8, 1.6],\n",
       "        [5.5, 2.3, 4. , 1.3],\n",
       "        [5. , 2.3, 3.3, 1. ],\n",
       "        [5. , 3.5, 1.6, 0.6],\n",
       "        [6.8, 3.2, 5.9, 2.3],\n",
       "        [5.7, 2.9, 4.2, 1.3],\n",
       "        [6.7, 3. , 5.2, 2.3],\n",
       "        [7.7, 3. , 6.1, 2.3],\n",
       "        [7.6, 3. , 6.6, 2.1],\n",
       "        [6.7, 3. , 5. , 1.7],\n",
       "        [5.1, 3.7, 1.5, 0.4],\n",
       "        [4.8, 3.4, 1.9, 0.2],\n",
       "        [6.4, 2.7, 5.3, 1.9],\n",
       "        [5.1, 3.4, 1.5, 0.2],\n",
       "        [6. , 2.9, 4.5, 1.5],\n",
       "        [4.9, 3.6, 1.4, 0.1],\n",
       "        [6.4, 3.2, 4.5, 1.5],\n",
       "        [5. , 3.3, 1.4, 0.2],\n",
       "        [5.2, 3.4, 1.4, 0.2]]),\n",
       " array([[7.1, 3. , 5.9, 2.1],\n",
       "        [5.7, 2.6, 3.5, 1. ],\n",
       "        [6.1, 3. , 4.9, 1.8],\n",
       "        [5.7, 2.8, 4.1, 1.3],\n",
       "        [5.1, 3.3, 1.7, 0.5],\n",
       "        [7.7, 2.6, 6.9, 2.3],\n",
       "        [4.9, 3. , 1.4, 0.2],\n",
       "        [6.4, 3.2, 5.3, 2.3],\n",
       "        [5.4, 3.4, 1.7, 0.2],\n",
       "        [5. , 2. , 3.5, 1. ],\n",
       "        [5. , 3. , 1.6, 0.2],\n",
       "        [4.9, 2.5, 4.5, 1.7],\n",
       "        [5.1, 3.5, 1.4, 0.2],\n",
       "        [5.7, 4.4, 1.5, 0.4],\n",
       "        [5.7, 2.5, 5. , 2. ],\n",
       "        [4.8, 3. , 1.4, 0.1],\n",
       "        [6.7, 3.1, 5.6, 2.4],\n",
       "        [7.2, 3.6, 6.1, 2.5],\n",
       "        [6.8, 2.8, 4.8, 1.4],\n",
       "        [6.1, 2.8, 4.7, 1.2],\n",
       "        [7. , 3.2, 4.7, 1.4],\n",
       "        [6.9, 3.1, 4.9, 1.5],\n",
       "        [6.7, 3.1, 4.7, 1.5],\n",
       "        [6. , 2.7, 5.1, 1.6],\n",
       "        [6.1, 2.9, 4.7, 1.4],\n",
       "        [5.1, 3.8, 1.6, 0.2],\n",
       "        [7.9, 3.8, 6.4, 2. ],\n",
       "        [4.6, 3.4, 1.4, 0.3],\n",
       "        [6.1, 2.6, 5.6, 1.4],\n",
       "        [7.4, 2.8, 6.1, 1.9],\n",
       "        [6.3, 2.8, 5.1, 1.5],\n",
       "        [6.9, 3.1, 5.4, 2.1],\n",
       "        [5.2, 2.7, 3.9, 1.4],\n",
       "        [4.9, 3.1, 1.5, 0.2],\n",
       "        [5.7, 2.8, 4.5, 1.3],\n",
       "        [6.3, 3.3, 6. , 2.5],\n",
       "        [5.8, 2.7, 5.1, 1.9],\n",
       "        [7.7, 3.8, 6.7, 2.2]]),\n",
       " array([0, 2, 2, 0, 0, 1, 2, 0, 0, 2, 1, 0, 1, 2, 1, 2, 2, 1, 1, 1, 1, 1,\n",
       "        2, 1, 0, 0, 0, 1, 0, 1, 0, 1, 0, 1, 0, 0, 0, 1, 1, 2, 2, 1, 2, 2,\n",
       "        0, 0, 1, 2, 1, 0, 2, 1, 1, 1, 2, 0, 0, 2, 2, 1, 0, 2, 1, 1, 2, 0,\n",
       "        0, 0, 0, 0, 0, 0, 2, 0, 2, 1, 1, 1, 2, 0, 0, 1, 1, 2, 2, 1, 2, 1,\n",
       "        0, 2, 2, 0, 2, 2, 1, 1, 0, 2, 1, 2, 2, 2, 1, 0, 0, 2, 0, 1, 0, 1,\n",
       "        0, 0]),\n",
       " array([2, 1, 2, 1, 0, 2, 0, 2, 0, 1, 0, 2, 0, 0, 2, 0, 2, 2, 1, 1, 1, 1,\n",
       "        1, 1, 1, 0, 2, 0, 2, 2, 2, 2, 1, 0, 1, 2, 2, 2])]"
      ]
     },
     "execution_count": 10,
     "metadata": {},
     "output_type": "execute_result"
    }
   ],
   "source": [
    "train_test_split(iris.data, iris.target)"
   ]
  },
  {
   "cell_type": "code",
   "execution_count": 11,
   "id": "6b924818-64d9-4752-bfb8-235cc31da3f9",
   "metadata": {},
   "outputs": [],
   "source": [
    "dt_clf = DecisionTreeClassifier()\n",
    "iris = load_iris()"
   ]
  },
  {
   "cell_type": "code",
   "execution_count": 45,
   "id": "79abd06d-5414-4fa4-b5d4-cfe4a3db6a8d",
   "metadata": {},
   "outputs": [],
   "source": [
    "X_train, X_test, y_train, y_test = train_test_split(iris.data, iris.target, test_size=0.3, random_state=121)"
   ]
  },
  {
   "cell_type": "code",
   "execution_count": 46,
   "id": "2b9b9395-21be-4fdc-a6c1-6ffc79909577",
   "metadata": {},
   "outputs": [
    {
     "data": {
      "text/plain": [
       "0.9555555555555556"
      ]
     },
     "execution_count": 46,
     "metadata": {},
     "output_type": "execute_result"
    }
   ],
   "source": [
    "dt_clf.fit(X_train, y_train)\n",
    "pred = dt_clf.predict(X_test)\n",
    "accuracy_score(y_test, pred)"
   ]
  },
  {
   "cell_type": "code",
   "execution_count": null,
   "id": "bdb559ff-2b8a-4e5d-a14f-681ab6df7e4c",
   "metadata": {},
   "outputs": [],
   "source": []
  },
  {
   "cell_type": "markdown",
   "id": "879426ca-da13-4d94-a2cf-8a9521c6538d",
   "metadata": {},
   "source": [
    "# K폴드 교차 검증"
   ]
  },
  {
   "cell_type": "code",
   "execution_count": 47,
   "id": "1f1dc239-341d-49d1-89bf-0560289d3383",
   "metadata": {},
   "outputs": [],
   "source": [
    "from sklearn.tree import DecisionTreeClassifier\n",
    "from sklearn.metrics import accuracy_score\n",
    "from sklearn.model_selection import KFold \n",
    "import numpy as np"
   ]
  },
  {
   "cell_type": "code",
   "execution_count": 51,
   "id": "8b30afe1-1a3f-4c10-8c19-de7984cee05c",
   "metadata": {},
   "outputs": [
    {
     "data": {
      "text/plain": [
       "150"
      ]
     },
     "execution_count": 51,
     "metadata": {},
     "output_type": "execute_result"
    }
   ],
   "source": [
    "iris = load_iris()\n",
    "dt_clf = DecisionTreeClassifier(random_state=156)\n",
    "\n",
    "# 5개의 폴드 세트로 분리하는 KFold 객체와 폴드 세트별 정확도를 담을 리스트 생성\n",
    "kfold = KFold(n_splits=5, shuffle=True)\n",
    "cv_accuracy = []\n",
    "iris.data.shape[0]"
   ]
  },
  {
   "cell_type": "code",
   "execution_count": 57,
   "id": "2fb94f5a-20b2-4050-a72d-4c56ce33a6d3",
   "metadata": {
    "collapsed": true,
    "jupyter": {
     "outputs_hidden": true
    },
    "tags": []
   },
   "outputs": [
    {
     "name": "stdout",
     "output_type": "stream",
     "text": [
      "[  1   2   3   5   6   7   9  10  12  13  14  15  16  17  20  22  23  24\n",
      "  25  26  27  28  29  30  31  34  35  36  37  38  41  43  44  46  47  48\n",
      "  49  50  51  52  53  54  55  56  57  58  59  60  61  63  64  67  68  69\n",
      "  71  73  74  76  77  79  80  81  82  83  84  85  86  87  88  89  91  92\n",
      "  93  95  96  97  99 100 101 102 103 104 105 106 107 108 109 110 111 112\n",
      " 113 118 119 120 121 122 124 125 126 127 128 129 131 132 133 134 135 137\n",
      " 138 139 140 141 142 143 144 145 146 147 148 149]\n",
      "[  0   4   8  11  18  19  21  32  33  39  40  42  45  62  65  66  70  72\n",
      "  75  78  90  94  98 114 115 116 117 123 130 136]\n",
      "\n",
      "#1 교차검증정확도:0.9667, 학습데이터 크기:30, 검증데이터 크기:30\n",
      "#1 검증 세트 인덱스:[  0   4   8  11  18  19  21  32  33  39  40  42  45  62  65  66  70  72\n",
      "  75  78  90  94  98 114 115 116 117 123 130 136]\n",
      "[  0   2   3   4   6   7   8  10  11  12  14  16  18  19  20  21  22  23\n",
      "  26  27  28  29  30  31  32  33  35  39  40  41  42  43  44  45  46  47\n",
      "  48  49  50  51  52  53  54  55  56  58  59  60  61  62  63  64  65  66\n",
      "  70  71  72  73  74  75  76  77  78  79  81  82  83  84  85  87  88  90\n",
      "  91  93  94  97  98 100 101 102 103 104 105 106 107 108 109 110 112 113\n",
      " 114 115 116 117 119 120 122 123 124 125 126 128 129 130 131 132 133 134\n",
      " 135 136 137 138 139 141 142 143 145 147 148 149]\n",
      "[  1   5   9  13  15  17  24  25  34  36  37  38  57  67  68  69  80  86\n",
      "  89  92  95  96  99 111 118 121 127 140 144 146]\n",
      "\n",
      "#2 교차검증정확도:0.9667, 학습데이터 크기:30, 검증데이터 크기:30\n",
      "#2 검증 세트 인덱스:[  1   5   9  13  15  17  24  25  34  36  37  38  57  67  68  69  80  86\n",
      "  89  92  95  96  99 111 118 121 127 140 144 146]\n",
      "[  0   1   3   4   5   6   7   8   9  10  11  12  13  15  16  17  18  19\n",
      "  20  21  22  24  25  26  29  32  33  34  35  36  37  38  39  40  42  43\n",
      "  44  45  46  47  48  50  51  52  53  54  55  56  57  59  60  61  62  63\n",
      "  65  66  67  68  69  70  71  72  75  78  79  80  81  82  83  84  85  86\n",
      "  87  88  89  90  91  92  94  95  96  97  98  99 102 103 104 108 110 111\n",
      " 113 114 115 116 117 118 119 120 121 123 124 125 126 127 128 129 130 131\n",
      " 132 133 134 136 140 141 142 144 145 146 147 149]\n",
      "[  2  14  23  27  28  30  31  41  49  58  64  73  74  76  77  93 100 101\n",
      " 105 106 107 109 112 122 135 137 138 139 143 148]\n",
      "\n",
      "#3 교차검증정확도:0.9, 학습데이터 크기:30, 검증데이터 크기:30\n",
      "#3 검증 세트 인덱스:[  2  14  23  27  28  30  31  41  49  58  64  73  74  76  77  93 100 101\n",
      " 105 106 107 109 112 122 135 137 138 139 143 148]\n",
      "[  0   1   2   4   5   6   8   9  10  11  13  14  15  17  18  19  20  21\n",
      "  23  24  25  26  27  28  30  31  32  33  34  35  36  37  38  39  40  41\n",
      "  42  43  45  49  51  52  53  56  57  58  59  61  62  63  64  65  66  67\n",
      "  68  69  70  71  72  73  74  75  76  77  78  79  80  83  85  86  89  90\n",
      "  91  92  93  94  95  96  97  98  99 100 101 102 104 105 106 107 108 109\n",
      " 111 112 113 114 115 116 117 118 119 121 122 123 125 126 127 130 134 135\n",
      " 136 137 138 139 140 141 143 144 146 147 148 149]\n",
      "[  3   7  12  16  22  29  44  46  47  48  50  54  55  60  81  82  84  87\n",
      "  88 103 110 120 124 128 129 131 132 133 142 145]\n",
      "\n",
      "#4 교차검증정확도:0.9667, 학습데이터 크기:30, 검증데이터 크기:30\n",
      "#4 검증 세트 인덱스:[  3   7  12  16  22  29  44  46  47  48  50  54  55  60  81  82  84  87\n",
      "  88 103 110 120 124 128 129 131 132 133 142 145]\n",
      "[  0   1   2   3   4   5   7   8   9  11  12  13  14  15  16  17  18  19\n",
      "  21  22  23  24  25  27  28  29  30  31  32  33  34  36  37  38  39  40\n",
      "  41  42  44  45  46  47  48  49  50  54  55  57  58  60  62  64  65  66\n",
      "  67  68  69  70  72  73  74  75  76  77  78  80  81  82  84  86  87  88\n",
      "  89  90  92  93  94  95  96  98  99 100 101 103 105 106 107 109 110 111\n",
      " 112 114 115 116 117 118 120 121 122 123 124 127 128 129 130 131 132 133\n",
      " 135 136 137 138 139 140 142 143 144 145 146 148]\n",
      "[  6  10  20  26  35  43  51  52  53  56  59  61  63  71  79  83  85  91\n",
      "  97 102 104 108 113 119 125 126 134 141 147 149]\n",
      "\n",
      "#5 교차검증정확도:0.9333, 학습데이터 크기:30, 검증데이터 크기:30\n",
      "#5 검증 세트 인덱스:[  6  10  20  26  35  43  51  52  53  56  59  61  63  71  79  83  85  91\n",
      "  97 102 104 108 113 119 125 126 134 141 147 149]\n",
      "\n",
      "## 평균 검증 정확도: 0.9500099999999999\n"
     ]
    }
   ],
   "source": [
    "n_iter =0\n",
    "\n",
    "# KFold 객체의 split()를 호출하면 폴드 별 학습용, 검증용 테스트의 로우 인덱스를 array로 반환\n",
    "for train_index, test_index in kfold.split(iris.data):\n",
    "    \n",
    "    # kfold.split()로 반환된 인덱스를 이용해 학습용, 검증용 테스트 데이터 추출\n",
    "    print(train_index)\n",
    "    print(test_index)\n",
    "    X_train, X_test = iris.data[train_index], iris.data[test_index]\n",
    "    y_train, y_test = iris.target[train_index], iris.target[test_index]\n",
    "    \n",
    "    # 학습 및 예측\n",
    "    dt_clf.fit(X_train, y_train)\n",
    "    pred = dt_clf.predict(X_test)\n",
    "    n_iter += 1\n",
    "    \n",
    "    # 반복시마다 정확도 측정\n",
    "    accuracy = np.round(accuracy_score(y_test, pred), 4)\n",
    "    train_size = X_test.shape[0]\n",
    "    test_size = X_test.shape[0]\n",
    "    print('\\n#{} 교차검증정확도:{}, 학습데이터 크기:{}, 검증데이터 크기:{}'.format(n_iter, accuracy, train_size, test_size))\n",
    "    print('#{} 검증 세트 인덱스:{}'.format(n_iter, test_index))\n",
    "    cv_accuracy.append(accuracy)\n",
    "    \n",
    "# 개별 iteration별 정확도를 합하여 평균 정확도 계산\n",
    "print('\\n## 평균 검증 정확도:', np.mean(cv_accuracy))"
   ]
  },
  {
   "cell_type": "code",
   "execution_count": null,
   "id": "feecea0c-ab07-49ab-bfe8-04605377f313",
   "metadata": {},
   "outputs": [],
   "source": []
  },
  {
   "cell_type": "markdown",
   "id": "e9924b52-0c93-490b-8b6c-e93a6dfdbdd2",
   "metadata": {},
   "source": [
    "# Stratified K 폴드"
   ]
  },
  {
   "cell_type": "code",
   "execution_count": 150,
   "id": "987ea150-1919-442f-82ff-55f1006d6b27",
   "metadata": {},
   "outputs": [
    {
     "data": {
      "text/html": [
       "<div>\n",
       "<style scoped>\n",
       "    .dataframe tbody tr th:only-of-type {\n",
       "        vertical-align: middle;\n",
       "    }\n",
       "\n",
       "    .dataframe tbody tr th {\n",
       "        vertical-align: top;\n",
       "    }\n",
       "\n",
       "    .dataframe thead th {\n",
       "        text-align: right;\n",
       "    }\n",
       "</style>\n",
       "<table border=\"1\" class=\"dataframe\">\n",
       "  <thead>\n",
       "    <tr style=\"text-align: right;\">\n",
       "      <th></th>\n",
       "      <th>sepal length (cm)</th>\n",
       "      <th>sepal width (cm)</th>\n",
       "      <th>petal length (cm)</th>\n",
       "      <th>petal width (cm)</th>\n",
       "    </tr>\n",
       "  </thead>\n",
       "  <tbody>\n",
       "    <tr>\n",
       "      <th>0</th>\n",
       "      <td>5.1</td>\n",
       "      <td>3.5</td>\n",
       "      <td>1.4</td>\n",
       "      <td>0.2</td>\n",
       "    </tr>\n",
       "    <tr>\n",
       "      <th>1</th>\n",
       "      <td>4.9</td>\n",
       "      <td>3.0</td>\n",
       "      <td>1.4</td>\n",
       "      <td>0.2</td>\n",
       "    </tr>\n",
       "    <tr>\n",
       "      <th>2</th>\n",
       "      <td>4.7</td>\n",
       "      <td>3.2</td>\n",
       "      <td>1.3</td>\n",
       "      <td>0.2</td>\n",
       "    </tr>\n",
       "    <tr>\n",
       "      <th>3</th>\n",
       "      <td>4.6</td>\n",
       "      <td>3.1</td>\n",
       "      <td>1.5</td>\n",
       "      <td>0.2</td>\n",
       "    </tr>\n",
       "    <tr>\n",
       "      <th>4</th>\n",
       "      <td>5.0</td>\n",
       "      <td>3.6</td>\n",
       "      <td>1.4</td>\n",
       "      <td>0.2</td>\n",
       "    </tr>\n",
       "    <tr>\n",
       "      <th>...</th>\n",
       "      <td>...</td>\n",
       "      <td>...</td>\n",
       "      <td>...</td>\n",
       "      <td>...</td>\n",
       "    </tr>\n",
       "    <tr>\n",
       "      <th>145</th>\n",
       "      <td>6.7</td>\n",
       "      <td>3.0</td>\n",
       "      <td>5.2</td>\n",
       "      <td>2.3</td>\n",
       "    </tr>\n",
       "    <tr>\n",
       "      <th>146</th>\n",
       "      <td>6.3</td>\n",
       "      <td>2.5</td>\n",
       "      <td>5.0</td>\n",
       "      <td>1.9</td>\n",
       "    </tr>\n",
       "    <tr>\n",
       "      <th>147</th>\n",
       "      <td>6.5</td>\n",
       "      <td>3.0</td>\n",
       "      <td>5.2</td>\n",
       "      <td>2.0</td>\n",
       "    </tr>\n",
       "    <tr>\n",
       "      <th>148</th>\n",
       "      <td>6.2</td>\n",
       "      <td>3.4</td>\n",
       "      <td>5.4</td>\n",
       "      <td>2.3</td>\n",
       "    </tr>\n",
       "    <tr>\n",
       "      <th>149</th>\n",
       "      <td>5.9</td>\n",
       "      <td>3.0</td>\n",
       "      <td>5.1</td>\n",
       "      <td>1.8</td>\n",
       "    </tr>\n",
       "  </tbody>\n",
       "</table>\n",
       "<p>150 rows × 4 columns</p>\n",
       "</div>"
      ],
      "text/plain": [
       "     sepal length (cm)  sepal width (cm)  petal length (cm)  petal width (cm)\n",
       "0                  5.1               3.5                1.4               0.2\n",
       "1                  4.9               3.0                1.4               0.2\n",
       "2                  4.7               3.2                1.3               0.2\n",
       "3                  4.6               3.1                1.5               0.2\n",
       "4                  5.0               3.6                1.4               0.2\n",
       "..                 ...               ...                ...               ...\n",
       "145                6.7               3.0                5.2               2.3\n",
       "146                6.3               2.5                5.0               1.9\n",
       "147                6.5               3.0                5.2               2.0\n",
       "148                6.2               3.4                5.4               2.3\n",
       "149                5.9               3.0                5.1               1.8\n",
       "\n",
       "[150 rows x 4 columns]"
      ]
     },
     "execution_count": 150,
     "metadata": {},
     "output_type": "execute_result"
    }
   ],
   "source": [
    "import pandas as pd\n",
    "\n",
    "iris = load_iris()\n",
    "iris_df = pd.DataFrame(data=iris.data, columns=iris.feature_names)\n",
    "iris_df"
   ]
  },
  {
   "cell_type": "code",
   "execution_count": 151,
   "id": "1d573d4c-0c28-4f2a-b2c6-a858e6406f9d",
   "metadata": {},
   "outputs": [
    {
     "data": {
      "text/html": [
       "<div>\n",
       "<style scoped>\n",
       "    .dataframe tbody tr th:only-of-type {\n",
       "        vertical-align: middle;\n",
       "    }\n",
       "\n",
       "    .dataframe tbody tr th {\n",
       "        vertical-align: top;\n",
       "    }\n",
       "\n",
       "    .dataframe thead th {\n",
       "        text-align: right;\n",
       "    }\n",
       "</style>\n",
       "<table border=\"1\" class=\"dataframe\">\n",
       "  <thead>\n",
       "    <tr style=\"text-align: right;\">\n",
       "      <th></th>\n",
       "      <th>sepal length (cm)</th>\n",
       "      <th>sepal width (cm)</th>\n",
       "      <th>petal length (cm)</th>\n",
       "      <th>petal width (cm)</th>\n",
       "      <th>label</th>\n",
       "    </tr>\n",
       "  </thead>\n",
       "  <tbody>\n",
       "    <tr>\n",
       "      <th>0</th>\n",
       "      <td>5.1</td>\n",
       "      <td>3.5</td>\n",
       "      <td>1.4</td>\n",
       "      <td>0.2</td>\n",
       "      <td>0</td>\n",
       "    </tr>\n",
       "    <tr>\n",
       "      <th>1</th>\n",
       "      <td>4.9</td>\n",
       "      <td>3.0</td>\n",
       "      <td>1.4</td>\n",
       "      <td>0.2</td>\n",
       "      <td>0</td>\n",
       "    </tr>\n",
       "    <tr>\n",
       "      <th>2</th>\n",
       "      <td>4.7</td>\n",
       "      <td>3.2</td>\n",
       "      <td>1.3</td>\n",
       "      <td>0.2</td>\n",
       "      <td>0</td>\n",
       "    </tr>\n",
       "  </tbody>\n",
       "</table>\n",
       "</div>"
      ],
      "text/plain": [
       "   sepal length (cm)  sepal width (cm)  petal length (cm)  petal width (cm)  \\\n",
       "0                5.1               3.5                1.4               0.2   \n",
       "1                4.9               3.0                1.4               0.2   \n",
       "2                4.7               3.2                1.3               0.2   \n",
       "\n",
       "   label  \n",
       "0      0  \n",
       "1      0  \n",
       "2      0  "
      ]
     },
     "execution_count": 151,
     "metadata": {},
     "output_type": "execute_result"
    }
   ],
   "source": [
    "iris_df['label'] = iris.target\n",
    "iris_df.head(3)"
   ]
  },
  {
   "cell_type": "code",
   "execution_count": 152,
   "id": "79298be6-92f7-42d8-8ed2-60bea9151902",
   "metadata": {},
   "outputs": [
    {
     "data": {
      "text/plain": [
       "0    50\n",
       "1    50\n",
       "2    50\n",
       "Name: label, dtype: int64"
      ]
     },
     "execution_count": 152,
     "metadata": {},
     "output_type": "execute_result"
    }
   ],
   "source": [
    "iris_df['label'].value_counts()"
   ]
  },
  {
   "cell_type": "code",
   "execution_count": 153,
   "id": "a538f4e9-d42c-4c8c-95c3-601ed444e883",
   "metadata": {},
   "outputs": [
    {
     "name": "stdout",
     "output_type": "stream",
     "text": [
      "## 교차검증:1\n",
      "학습 레이블 데이터 분포 : \n",
      " 1    37\n",
      "0    32\n",
      "2    31\n",
      "Name: label, dtype: int64\n",
      "검증 레이블 데이터 분포 : \n",
      " 2    19\n",
      "0    18\n",
      "1    13\n",
      "Name: label, dtype: int64\n",
      "## 교차검증:2\n",
      "학습 레이블 데이터 분포 : \n",
      " 0    36\n",
      "1    32\n",
      "2    32\n",
      "Name: label, dtype: int64\n",
      "검증 레이블 데이터 분포 : \n",
      " 1    18\n",
      "2    18\n",
      "0    14\n",
      "Name: label, dtype: int64\n",
      "## 교차검증:3\n",
      "학습 레이블 데이터 분포 : \n",
      " 2    37\n",
      "0    32\n",
      "1    31\n",
      "Name: label, dtype: int64\n",
      "검증 레이블 데이터 분포 : \n",
      " 1    19\n",
      "0    18\n",
      "2    13\n",
      "Name: label, dtype: int64\n"
     ]
    }
   ],
   "source": [
    "kfold = KFold(n_splits=3, shuffle=True)\n",
    "n_iter = 0\n",
    "for train_index, test_index in kfold.split(iris_df):\n",
    "    n_iter += 1\n",
    "    label_train = iris_df['label'].iloc[train_index]\n",
    "    label_test = iris_df['label'].iloc[test_index]\n",
    "    print('## 교차검증:{}'.format(n_iter))\n",
    "    print('학습 레이블 데이터 분포 : \\n', label_train.value_counts())\n",
    "    print('검증 레이블 데이터 분포 : \\n', label_test.value_counts())\n",
    "    "
   ]
  },
  {
   "cell_type": "code",
   "execution_count": 154,
   "id": "db6b4d4c-5e65-4688-9048-6dd360f0da0f",
   "metadata": {},
   "outputs": [],
   "source": [
    "from sklearn.model_selection import StratifiedKFold"
   ]
  },
  {
   "cell_type": "code",
   "execution_count": 155,
   "id": "c0d3804b-24df-4473-b667-e0abf9f77087",
   "metadata": {},
   "outputs": [
    {
     "name": "stdout",
     "output_type": "stream",
     "text": [
      "## 교차검증:1\n",
      "학습 레이블 데이터 분포 : \n",
      " 2    34\n",
      "0    33\n",
      "1    33\n",
      "Name: label, dtype: int64\n",
      "검증 레이블 데이터 분포 : \n",
      " 0    17\n",
      "1    17\n",
      "2    16\n",
      "Name: label, dtype: int64\n",
      "## 교차검증:2\n",
      "학습 레이블 데이터 분포 : \n",
      " 1    34\n",
      "0    33\n",
      "2    33\n",
      "Name: label, dtype: int64\n",
      "검증 레이블 데이터 분포 : \n",
      " 0    17\n",
      "2    17\n",
      "1    16\n",
      "Name: label, dtype: int64\n",
      "## 교차검증:3\n",
      "학습 레이블 데이터 분포 : \n",
      " 0    34\n",
      "1    33\n",
      "2    33\n",
      "Name: label, dtype: int64\n",
      "검증 레이블 데이터 분포 : \n",
      " 1    17\n",
      "2    17\n",
      "0    16\n",
      "Name: label, dtype: int64\n"
     ]
    }
   ],
   "source": [
    "from sklearn.model_selection import StratifiedKFold\n",
    "kfold = StratifiedKFold(n_splits=3)\n",
    "n_iter = 0\n",
    "for train_index, test_index in kfold.split(iris_df, iris_df['label']): # 두번째 인자값으로 결과값이 있어야한다\n",
    "    n_iter += 1\n",
    "    label_train = iris_df['label'].iloc[train_index]\n",
    "    label_test = iris_df['label'].iloc[test_index]\n",
    "    print('## 교차검증:{}'.format(n_iter))\n",
    "    print('학습 레이블 데이터 분포 : \\n', label_train.value_counts())\n",
    "    print('검증 레이블 데이터 분포 : \\n', label_test.value_counts())\n",
    "    "
   ]
  },
  {
   "cell_type": "code",
   "execution_count": 156,
   "id": "46f97e1e-f0dc-40c0-bc0d-00def45d774c",
   "metadata": {},
   "outputs": [
    {
     "name": "stdout",
     "output_type": "stream",
     "text": [
      "[ 17  18  19  20  21  22  23  24  25  26  27  28  29  30  31  32  33  34\n",
      "  35  36  37  38  39  40  41  42  43  44  45  46  47  48  49  67  68  69\n",
      "  70  71  72  73  74  75  76  77  78  79  80  81  82  83  84  85  86  87\n",
      "  88  89  90  91  92  93  94  95  96  97  98  99 116 117 118 119 120 121\n",
      " 122 123 124 125 126 127 128 129 130 131 132 133 134 135 136 137 138 139\n",
      " 140 141 142 143 144 145 146 147 148 149]\n",
      "[  0   1   2   3   4   5   6   7   8   9  10  11  12  13  14  15  16  50\n",
      "  51  52  53  54  55  56  57  58  59  60  61  62  63  64  65  66 100 101\n",
      " 102 103 104 105 106 107 108 109 110 111 112 113 114 115]\n",
      "\n",
      "#1 교차검증정확도:0.98, 학습데이터 크기:50, 검증데이터 크기:50\n",
      "#1 검증 세트 인덱스:[  0   1   2   3   4   5   6   7   8   9  10  11  12  13  14  15  16  50\n",
      "  51  52  53  54  55  56  57  58  59  60  61  62  63  64  65  66 100 101\n",
      " 102 103 104 105 106 107 108 109 110 111 112 113 114 115]\n",
      "[  0   1   2   3   4   5   6   7   8   9  10  11  12  13  14  15  16  34\n",
      "  35  36  37  38  39  40  41  42  43  44  45  46  47  48  49  50  51  52\n",
      "  53  54  55  56  57  58  59  60  61  62  63  64  65  66  83  84  85  86\n",
      "  87  88  89  90  91  92  93  94  95  96  97  98  99 100 101 102 103 104\n",
      " 105 106 107 108 109 110 111 112 113 114 115 133 134 135 136 137 138 139\n",
      " 140 141 142 143 144 145 146 147 148 149]\n",
      "[ 17  18  19  20  21  22  23  24  25  26  27  28  29  30  31  32  33  67\n",
      "  68  69  70  71  72  73  74  75  76  77  78  79  80  81  82 116 117 118\n",
      " 119 120 121 122 123 124 125 126 127 128 129 130 131 132]\n",
      "\n",
      "#2 교차검증정확도:0.94, 학습데이터 크기:50, 검증데이터 크기:50\n",
      "#2 검증 세트 인덱스:[ 17  18  19  20  21  22  23  24  25  26  27  28  29  30  31  32  33  67\n",
      "  68  69  70  71  72  73  74  75  76  77  78  79  80  81  82 116 117 118\n",
      " 119 120 121 122 123 124 125 126 127 128 129 130 131 132]\n",
      "[  0   1   2   3   4   5   6   7   8   9  10  11  12  13  14  15  16  17\n",
      "  18  19  20  21  22  23  24  25  26  27  28  29  30  31  32  33  50  51\n",
      "  52  53  54  55  56  57  58  59  60  61  62  63  64  65  66  67  68  69\n",
      "  70  71  72  73  74  75  76  77  78  79  80  81  82 100 101 102 103 104\n",
      " 105 106 107 108 109 110 111 112 113 114 115 116 117 118 119 120 121 122\n",
      " 123 124 125 126 127 128 129 130 131 132]\n",
      "[ 34  35  36  37  38  39  40  41  42  43  44  45  46  47  48  49  83  84\n",
      "  85  86  87  88  89  90  91  92  93  94  95  96  97  98  99 133 134 135\n",
      " 136 137 138 139 140 141 142 143 144 145 146 147 148 149]\n",
      "\n",
      "#3 교차검증정확도:0.98, 학습데이터 크기:50, 검증데이터 크기:50\n",
      "#3 검증 세트 인덱스:[ 34  35  36  37  38  39  40  41  42  43  44  45  46  47  48  49  83  84\n",
      "  85  86  87  88  89  90  91  92  93  94  95  96  97  98  99 133 134 135\n",
      " 136 137 138 139 140 141 142 143 144 145 146 147 148 149]\n",
      "\n",
      "## 평균 검증 정확도: 0.9666666666666667\n"
     ]
    }
   ],
   "source": [
    "dt_clf = DecisionTreeClassifier(random_state=156)\n",
    "skfold = StratifiedKFold(n_splits=3)\n",
    "n_iter =0\n",
    "cv_accuracy = []\n",
    "\n",
    "# KFold 객체의 split()를 호출하면 폴드 별 학습용, 검증용 테스트의 로우 인덱스를 array로 반환\n",
    "for train_index, test_index in skfold.split(iris.data, iris.target):\n",
    "    \n",
    "    # kfold.split()로 반환된 인덱스를 이용해 학습용, 검증용 테스트 데이터 추출\n",
    "    print(train_index)\n",
    "    print(test_index)\n",
    "    X_train, X_test = iris.data[train_index], iris.data[test_index]\n",
    "    y_train, y_test = iris.target[train_index], iris.target[test_index]\n",
    "    \n",
    "    # 학습 및 예측\n",
    "    dt_clf.fit(X_train, y_train)\n",
    "    pred = dt_clf.predict(X_test)\n",
    "    n_iter += 1\n",
    "    \n",
    "    # 반복시마다 정확도 측정\n",
    "    accuracy = np.round(accuracy_score(y_test, pred), 4)\n",
    "    train_size = X_test.shape[0]\n",
    "    test_size = X_test.shape[0]\n",
    "    print('\\n#{} 교차검증정확도:{}, 학습데이터 크기:{}, 검증데이터 크기:{}'.format(n_iter, accuracy, train_size, test_size))\n",
    "    print('#{} 검증 세트 인덱스:{}'.format(n_iter, test_index))\n",
    "    cv_accuracy.append(accuracy)\n",
    "    \n",
    "# 개별 iteration별 정확도를 합하여 평균 정확도 계산\n",
    "print('\\n## 평균 검증 정확도:', np.mean(cv_accuracy))"
   ]
  },
  {
   "cell_type": "code",
   "execution_count": null,
   "id": "9241a115-0a7d-411d-aeaf-83d0f3835dcd",
   "metadata": {},
   "outputs": [],
   "source": []
  },
  {
   "cell_type": "markdown",
   "id": "dabe91ec-06d4-412a-9cae-9ba6d747039c",
   "metadata": {},
   "source": [
    "# cross_val_score()"
   ]
  },
  {
   "cell_type": "code",
   "execution_count": 157,
   "id": "0fcef25a-16aa-4ae6-84a7-e6a5bf15e74f",
   "metadata": {},
   "outputs": [],
   "source": [
    "from sklearn.model_selection import cross_val_score, cross_validate\n",
    "from sklearn.tree import DecisionTreeClassifier\n",
    "from sklearn.datasets import load_iris"
   ]
  },
  {
   "cell_type": "code",
   "execution_count": 158,
   "id": "793cc783-833f-4ac7-b1bc-2ce17c6c0b40",
   "metadata": {},
   "outputs": [
    {
     "name": "stdout",
     "output_type": "stream",
     "text": [
      "교차 검증별 정확도: [0.98 0.94 0.98]\n",
      "평균 검증 정확도: 0.9667\n"
     ]
    }
   ],
   "source": [
    "iris = load_iris()\n",
    "dt_clf = DecisionTreeClassifier(random_state=156)\n",
    "\n",
    "# 성능 지표는 정확도(accuracy), 교차 검증 세트는 3개\n",
    "scores = cross_val_score(dt_clf, iris.data, iris.target, scoring='accuracy', cv=3)\n",
    "print('교차 검증별 정확도:', np.round(scores,4))\n",
    "print('평균 검증 정확도:', np.round(np.mean(scores),4))"
   ]
  },
  {
   "cell_type": "code",
   "execution_count": 159,
   "id": "051b5b81-249f-4b83-bb6e-2287f3a2189b",
   "metadata": {},
   "outputs": [],
   "source": [
    "# 평가항목을 추가해서 돌림"
   ]
  },
  {
   "cell_type": "code",
   "execution_count": 160,
   "id": "7d6131b4-57ae-4eb7-ae12-8dce809a8424",
   "metadata": {},
   "outputs": [],
   "source": [
    "scoring = ['accuracy', 'f1_micro']"
   ]
  },
  {
   "cell_type": "code",
   "execution_count": 161,
   "id": "e6e860f0-a8bc-4113-aa4b-0cdece1cb5fe",
   "metadata": {},
   "outputs": [],
   "source": [
    "scores1 = cross_validate(dt_clf, iris.data, iris.target, scoring= scoring, cv=3)"
   ]
  },
  {
   "cell_type": "code",
   "execution_count": 162,
   "id": "b6eda100-c6d5-493e-9ced-8c84df5b1846",
   "metadata": {},
   "outputs": [
    {
     "data": {
      "text/plain": [
       "{'fit_time': array([0.00097036, 0.00099707, 0.00099754]),\n",
       " 'score_time': array([0.00328827, 0.00199223, 0.0009985 ]),\n",
       " 'test_accuracy': array([0.98, 0.94, 0.98]),\n",
       " 'test_f1_micro': array([0.98, 0.94, 0.98])}"
      ]
     },
     "execution_count": 162,
     "metadata": {},
     "output_type": "execute_result"
    }
   ],
   "source": [
    "scores1"
   ]
  },
  {
   "cell_type": "code",
   "execution_count": 163,
   "id": "2b4e18f3-01f0-48f6-858c-f97e8071e51b",
   "metadata": {},
   "outputs": [],
   "source": [
    "dt_clf = DecisionTreeClassifier(random_state=156, )"
   ]
  },
  {
   "cell_type": "code",
   "execution_count": null,
   "id": "4f15f374-ae3a-4c3e-ae33-f5cdda33dfdb",
   "metadata": {},
   "outputs": [],
   "source": []
  },
  {
   "cell_type": "markdown",
   "id": "a6e0ea15-39fd-4cca-9f23-dd43ac8cb417",
   "metadata": {},
   "source": [
    "# GridSearchCV"
   ]
  },
  {
   "cell_type": "code",
   "execution_count": 164,
   "id": "e50a17de-68cb-4e03-86de-b851ee488e8e",
   "metadata": {},
   "outputs": [],
   "source": [
    "from sklearn.model_selection import GridSearchCV"
   ]
  },
  {
   "cell_type": "code",
   "execution_count": null,
   "id": "5bebf2f8-07ba-4b91-831e-9e13ca6372f1",
   "metadata": {},
   "outputs": [],
   "source": []
  },
  {
   "cell_type": "code",
   "execution_count": 165,
   "id": "4d0b6229-6f5b-49a6-8723-0cfbc8729cc9",
   "metadata": {},
   "outputs": [],
   "source": [
    "# 데이터를 로딩하고 학습 데이터와 테스트 데이터 분리\n",
    "iris = load_iris()\n",
    "X_train, X_test, y_train, y_test = train_test_split(iris.data, iris.target, test_size=0.2, random_state=121)\n",
    "\n",
    "dtree = DecisionTreeClassifier()\n",
    "\n",
    "# 파라미터를 딕셔너리 형태로 설정\n",
    "parameters = {\n",
    "    'max_depth':[1,2,3,4],\n",
    "    'min_samples_split':[2,3,4]}"
   ]
  },
  {
   "cell_type": "code",
   "execution_count": 166,
   "id": "e84a1072-f6ec-4f2b-b1ce-08f51231dc8b",
   "metadata": {},
   "outputs": [],
   "source": [
    "grid_dtree = GridSearchCV(dtree, param_grid=parameters, cv=3, refit=True)"
   ]
  },
  {
   "cell_type": "code",
   "execution_count": 167,
   "id": "035880d2-abb1-4a6b-a687-de53f1363ed9",
   "metadata": {},
   "outputs": [
    {
     "data": {
      "text/plain": [
       "GridSearchCV(cv=3, estimator=DecisionTreeClassifier(),\n",
       "             param_grid={'max_depth': [1, 2, 3, 4],\n",
       "                         'min_samples_split': [2, 3, 4]})"
      ]
     },
     "execution_count": 167,
     "metadata": {},
     "output_type": "execute_result"
    }
   ],
   "source": [
    "# 붓꽃 학습 데이터로 param_grid의 하이퍼 파라미터를 순차적으로 학습/평가\n",
    "grid_dtree.fit(X_train, y_train)"
   ]
  },
  {
   "cell_type": "code",
   "execution_count": 168,
   "id": "7969ac6b-bb32-4094-a970-7e03efeace30",
   "metadata": {},
   "outputs": [],
   "source": [
    "# GridSearchCV 결과를 추출해 DataFrame으로 변환\n",
    "scores_df = pd.DataFrame(grid_dtree.cv_results_)"
   ]
  },
  {
   "cell_type": "code",
   "execution_count": 169,
   "id": "53ae01f8-8bda-4f0d-9ee6-4b68e82d0db1",
   "metadata": {},
   "outputs": [
    {
     "data": {
      "text/html": [
       "<div>\n",
       "<style scoped>\n",
       "    .dataframe tbody tr th:only-of-type {\n",
       "        vertical-align: middle;\n",
       "    }\n",
       "\n",
       "    .dataframe tbody tr th {\n",
       "        vertical-align: top;\n",
       "    }\n",
       "\n",
       "    .dataframe thead th {\n",
       "        text-align: right;\n",
       "    }\n",
       "</style>\n",
       "<table border=\"1\" class=\"dataframe\">\n",
       "  <thead>\n",
       "    <tr style=\"text-align: right;\">\n",
       "      <th></th>\n",
       "      <th>mean_fit_time</th>\n",
       "      <th>std_fit_time</th>\n",
       "      <th>mean_score_time</th>\n",
       "      <th>std_score_time</th>\n",
       "      <th>param_max_depth</th>\n",
       "      <th>param_min_samples_split</th>\n",
       "      <th>params</th>\n",
       "      <th>split0_test_score</th>\n",
       "      <th>split1_test_score</th>\n",
       "      <th>split2_test_score</th>\n",
       "      <th>mean_test_score</th>\n",
       "      <th>std_test_score</th>\n",
       "      <th>rank_test_score</th>\n",
       "    </tr>\n",
       "  </thead>\n",
       "  <tbody>\n",
       "    <tr>\n",
       "      <th>0</th>\n",
       "      <td>0.000997</td>\n",
       "      <td>3.893359e-07</td>\n",
       "      <td>0.000334</td>\n",
       "      <td>4.718199e-04</td>\n",
       "      <td>1</td>\n",
       "      <td>2</td>\n",
       "      <td>{'max_depth': 1, 'min_samples_split': 2}</td>\n",
       "      <td>0.7</td>\n",
       "      <td>0.7</td>\n",
       "      <td>0.7</td>\n",
       "      <td>0.7</td>\n",
       "      <td>1.110223e-16</td>\n",
       "      <td>10</td>\n",
       "    </tr>\n",
       "    <tr>\n",
       "      <th>1</th>\n",
       "      <td>0.000665</td>\n",
       "      <td>4.704716e-04</td>\n",
       "      <td>0.000332</td>\n",
       "      <td>4.696845e-04</td>\n",
       "      <td>1</td>\n",
       "      <td>3</td>\n",
       "      <td>{'max_depth': 1, 'min_samples_split': 3}</td>\n",
       "      <td>0.7</td>\n",
       "      <td>0.7</td>\n",
       "      <td>0.7</td>\n",
       "      <td>0.7</td>\n",
       "      <td>1.110223e-16</td>\n",
       "      <td>10</td>\n",
       "    </tr>\n",
       "    <tr>\n",
       "      <th>2</th>\n",
       "      <td>0.000000</td>\n",
       "      <td>0.000000e+00</td>\n",
       "      <td>0.000998</td>\n",
       "      <td>5.840039e-07</td>\n",
       "      <td>1</td>\n",
       "      <td>4</td>\n",
       "      <td>{'max_depth': 1, 'min_samples_split': 4}</td>\n",
       "      <td>0.7</td>\n",
       "      <td>0.7</td>\n",
       "      <td>0.7</td>\n",
       "      <td>0.7</td>\n",
       "      <td>1.110223e-16</td>\n",
       "      <td>10</td>\n",
       "    </tr>\n",
       "  </tbody>\n",
       "</table>\n",
       "</div>"
      ],
      "text/plain": [
       "   mean_fit_time  std_fit_time  mean_score_time  std_score_time  \\\n",
       "0       0.000997  3.893359e-07         0.000334    4.718199e-04   \n",
       "1       0.000665  4.704716e-04         0.000332    4.696845e-04   \n",
       "2       0.000000  0.000000e+00         0.000998    5.840039e-07   \n",
       "\n",
       "  param_max_depth param_min_samples_split  \\\n",
       "0               1                       2   \n",
       "1               1                       3   \n",
       "2               1                       4   \n",
       "\n",
       "                                     params  split0_test_score  \\\n",
       "0  {'max_depth': 1, 'min_samples_split': 2}                0.7   \n",
       "1  {'max_depth': 1, 'min_samples_split': 3}                0.7   \n",
       "2  {'max_depth': 1, 'min_samples_split': 4}                0.7   \n",
       "\n",
       "   split1_test_score  split2_test_score  mean_test_score  std_test_score  \\\n",
       "0                0.7                0.7              0.7    1.110223e-16   \n",
       "1                0.7                0.7              0.7    1.110223e-16   \n",
       "2                0.7                0.7              0.7    1.110223e-16   \n",
       "\n",
       "   rank_test_score  \n",
       "0               10  \n",
       "1               10  \n",
       "2               10  "
      ]
     },
     "execution_count": 169,
     "metadata": {},
     "output_type": "execute_result"
    }
   ],
   "source": [
    "scores_df.head(3)"
   ]
  },
  {
   "cell_type": "code",
   "execution_count": 170,
   "id": "bbe3efaa-efc3-4df6-8639-908942eb8a32",
   "metadata": {},
   "outputs": [
    {
     "data": {
      "text/html": [
       "<div>\n",
       "<style scoped>\n",
       "    .dataframe tbody tr th:only-of-type {\n",
       "        vertical-align: middle;\n",
       "    }\n",
       "\n",
       "    .dataframe tbody tr th {\n",
       "        vertical-align: top;\n",
       "    }\n",
       "\n",
       "    .dataframe thead th {\n",
       "        text-align: right;\n",
       "    }\n",
       "</style>\n",
       "<table border=\"1\" class=\"dataframe\">\n",
       "  <thead>\n",
       "    <tr style=\"text-align: right;\">\n",
       "      <th></th>\n",
       "      <th>params</th>\n",
       "      <th>mean_test_score</th>\n",
       "      <th>rank_test_score</th>\n",
       "      <th>split0_test_score</th>\n",
       "      <th>split1_test_score</th>\n",
       "      <th>split2_test_score</th>\n",
       "    </tr>\n",
       "  </thead>\n",
       "  <tbody>\n",
       "    <tr>\n",
       "      <th>0</th>\n",
       "      <td>{'max_depth': 1, 'min_samples_split': 2}</td>\n",
       "      <td>0.700000</td>\n",
       "      <td>10</td>\n",
       "      <td>0.700</td>\n",
       "      <td>0.7</td>\n",
       "      <td>0.700</td>\n",
       "    </tr>\n",
       "    <tr>\n",
       "      <th>1</th>\n",
       "      <td>{'max_depth': 1, 'min_samples_split': 3}</td>\n",
       "      <td>0.700000</td>\n",
       "      <td>10</td>\n",
       "      <td>0.700</td>\n",
       "      <td>0.7</td>\n",
       "      <td>0.700</td>\n",
       "    </tr>\n",
       "    <tr>\n",
       "      <th>2</th>\n",
       "      <td>{'max_depth': 1, 'min_samples_split': 4}</td>\n",
       "      <td>0.700000</td>\n",
       "      <td>10</td>\n",
       "      <td>0.700</td>\n",
       "      <td>0.7</td>\n",
       "      <td>0.700</td>\n",
       "    </tr>\n",
       "    <tr>\n",
       "      <th>3</th>\n",
       "      <td>{'max_depth': 2, 'min_samples_split': 2}</td>\n",
       "      <td>0.958333</td>\n",
       "      <td>5</td>\n",
       "      <td>0.925</td>\n",
       "      <td>1.0</td>\n",
       "      <td>0.950</td>\n",
       "    </tr>\n",
       "    <tr>\n",
       "      <th>4</th>\n",
       "      <td>{'max_depth': 2, 'min_samples_split': 3}</td>\n",
       "      <td>0.958333</td>\n",
       "      <td>5</td>\n",
       "      <td>0.925</td>\n",
       "      <td>1.0</td>\n",
       "      <td>0.950</td>\n",
       "    </tr>\n",
       "    <tr>\n",
       "      <th>5</th>\n",
       "      <td>{'max_depth': 2, 'min_samples_split': 4}</td>\n",
       "      <td>0.958333</td>\n",
       "      <td>5</td>\n",
       "      <td>0.925</td>\n",
       "      <td>1.0</td>\n",
       "      <td>0.950</td>\n",
       "    </tr>\n",
       "    <tr>\n",
       "      <th>6</th>\n",
       "      <td>{'max_depth': 3, 'min_samples_split': 2}</td>\n",
       "      <td>0.975000</td>\n",
       "      <td>1</td>\n",
       "      <td>0.975</td>\n",
       "      <td>1.0</td>\n",
       "      <td>0.950</td>\n",
       "    </tr>\n",
       "    <tr>\n",
       "      <th>7</th>\n",
       "      <td>{'max_depth': 3, 'min_samples_split': 3}</td>\n",
       "      <td>0.975000</td>\n",
       "      <td>1</td>\n",
       "      <td>0.975</td>\n",
       "      <td>1.0</td>\n",
       "      <td>0.950</td>\n",
       "    </tr>\n",
       "    <tr>\n",
       "      <th>8</th>\n",
       "      <td>{'max_depth': 3, 'min_samples_split': 4}</td>\n",
       "      <td>0.975000</td>\n",
       "      <td>1</td>\n",
       "      <td>0.975</td>\n",
       "      <td>1.0</td>\n",
       "      <td>0.950</td>\n",
       "    </tr>\n",
       "    <tr>\n",
       "      <th>9</th>\n",
       "      <td>{'max_depth': 4, 'min_samples_split': 2}</td>\n",
       "      <td>0.950000</td>\n",
       "      <td>8</td>\n",
       "      <td>0.925</td>\n",
       "      <td>1.0</td>\n",
       "      <td>0.925</td>\n",
       "    </tr>\n",
       "    <tr>\n",
       "      <th>10</th>\n",
       "      <td>{'max_depth': 4, 'min_samples_split': 3}</td>\n",
       "      <td>0.950000</td>\n",
       "      <td>8</td>\n",
       "      <td>0.925</td>\n",
       "      <td>1.0</td>\n",
       "      <td>0.925</td>\n",
       "    </tr>\n",
       "    <tr>\n",
       "      <th>11</th>\n",
       "      <td>{'max_depth': 4, 'min_samples_split': 4}</td>\n",
       "      <td>0.966667</td>\n",
       "      <td>4</td>\n",
       "      <td>0.975</td>\n",
       "      <td>1.0</td>\n",
       "      <td>0.925</td>\n",
       "    </tr>\n",
       "  </tbody>\n",
       "</table>\n",
       "</div>"
      ],
      "text/plain": [
       "                                      params  mean_test_score  \\\n",
       "0   {'max_depth': 1, 'min_samples_split': 2}         0.700000   \n",
       "1   {'max_depth': 1, 'min_samples_split': 3}         0.700000   \n",
       "2   {'max_depth': 1, 'min_samples_split': 4}         0.700000   \n",
       "3   {'max_depth': 2, 'min_samples_split': 2}         0.958333   \n",
       "4   {'max_depth': 2, 'min_samples_split': 3}         0.958333   \n",
       "5   {'max_depth': 2, 'min_samples_split': 4}         0.958333   \n",
       "6   {'max_depth': 3, 'min_samples_split': 2}         0.975000   \n",
       "7   {'max_depth': 3, 'min_samples_split': 3}         0.975000   \n",
       "8   {'max_depth': 3, 'min_samples_split': 4}         0.975000   \n",
       "9   {'max_depth': 4, 'min_samples_split': 2}         0.950000   \n",
       "10  {'max_depth': 4, 'min_samples_split': 3}         0.950000   \n",
       "11  {'max_depth': 4, 'min_samples_split': 4}         0.966667   \n",
       "\n",
       "    rank_test_score  split0_test_score  split1_test_score  split2_test_score  \n",
       "0                10              0.700                0.7              0.700  \n",
       "1                10              0.700                0.7              0.700  \n",
       "2                10              0.700                0.7              0.700  \n",
       "3                 5              0.925                1.0              0.950  \n",
       "4                 5              0.925                1.0              0.950  \n",
       "5                 5              0.925                1.0              0.950  \n",
       "6                 1              0.975                1.0              0.950  \n",
       "7                 1              0.975                1.0              0.950  \n",
       "8                 1              0.975                1.0              0.950  \n",
       "9                 8              0.925                1.0              0.925  \n",
       "10                8              0.925                1.0              0.925  \n",
       "11                4              0.975                1.0              0.925  "
      ]
     },
     "execution_count": 170,
     "metadata": {},
     "output_type": "execute_result"
    }
   ],
   "source": [
    "scores_df[['params', 'mean_test_score', 'rank_test_score', 'split0_test_score', 'split1_test_score','split2_test_score']]"
   ]
  },
  {
   "cell_type": "code",
   "execution_count": null,
   "id": "3da78be2-264a-4915-a9ce-e71969c64891",
   "metadata": {},
   "outputs": [],
   "source": []
  },
  {
   "cell_type": "markdown",
   "id": "b2c84e01-96e0-4958-a8cd-59ce43fb91d8",
   "metadata": {},
   "source": [
    "# 데이터 전처리\n",
    "### 레이블 인코딩(문자열 값을 숫자형으로 변환)"
   ]
  },
  {
   "cell_type": "code",
   "execution_count": 171,
   "id": "cc3d442b-2796-4633-8c7e-6892e5f2f41c",
   "metadata": {},
   "outputs": [],
   "source": [
    "from sklearn.preprocessing import LabelEncoder"
   ]
  },
  {
   "cell_type": "code",
   "execution_count": 172,
   "id": "c179318b-0cab-4be3-bbea-5bc6621da598",
   "metadata": {},
   "outputs": [],
   "source": [
    "items = ['TV', '냉장고', '전자레인지', '전자래인지', '컴퓨터', '선풍기', '믹서', '믹서']"
   ]
  },
  {
   "cell_type": "code",
   "execution_count": 173,
   "id": "48009871-2065-4684-8795-1860a2ed542e",
   "metadata": {},
   "outputs": [
    {
     "data": {
      "text/plain": [
       "array([0, 1, 5, 4, 6, 3, 2, 2])"
      ]
     },
     "execution_count": 173,
     "metadata": {},
     "output_type": "execute_result"
    }
   ],
   "source": [
    "encoder = LabelEncoder()\n",
    "encoder.fit(items)\n",
    "labels = encoder.transform(items)\n",
    "labels"
   ]
  },
  {
   "cell_type": "code",
   "execution_count": null,
   "id": "352adccc-2cc8-47c1-ba4a-90c0892a67de",
   "metadata": {},
   "outputs": [],
   "source": []
  },
  {
   "cell_type": "code",
   "execution_count": 174,
   "id": "3595e8dd-56b6-4c27-b8d0-83cd2582c785",
   "metadata": {},
   "outputs": [
    {
     "data": {
      "text/plain": [
       "array(['TV', '냉장고', '믹서', '선풍기', '전자래인지', '전자레인지', '컴퓨터'], dtype='<U5')"
      ]
     },
     "execution_count": 174,
     "metadata": {},
     "output_type": "execute_result"
    }
   ],
   "source": [
    "encoder.classes_\n",
    "# 위에 인코더 된 숫자는 아래의 중복이 없는 리스트의 index를 반환한것"
   ]
  },
  {
   "cell_type": "code",
   "execution_count": 175,
   "id": "71497fcb-c7a4-4f5b-9dbf-768e0e83e781",
   "metadata": {},
   "outputs": [
    {
     "data": {
      "text/plain": [
       "array(['TV', '냉장고', '전자레인지', '전자래인지', '컴퓨터', '선풍기', '믹서', '믹서'],\n",
       "      dtype='<U5')"
      ]
     },
     "execution_count": 175,
     "metadata": {},
     "output_type": "execute_result"
    }
   ],
   "source": [
    "encoder.inverse_transform(labels)\n",
    "# 숫자를 다시 문자로"
   ]
  },
  {
   "cell_type": "code",
   "execution_count": 176,
   "id": "918d8d4f-5fe7-412a-a26a-f21ac2cde134",
   "metadata": {},
   "outputs": [
    {
     "data": {
      "text/plain": [
       "array(['TV'], dtype='<U5')"
      ]
     },
     "execution_count": 176,
     "metadata": {},
     "output_type": "execute_result"
    }
   ],
   "source": [
    "encoder.inverse_transform([0])"
   ]
  },
  {
   "cell_type": "code",
   "execution_count": null,
   "id": "9e3cd2ca-1ba6-47b1-963b-912f4ca90877",
   "metadata": {},
   "outputs": [],
   "source": []
  },
  {
   "cell_type": "markdown",
   "id": "c1da81e9-a5f6-4362-a135-5cc8074a1651",
   "metadata": {},
   "source": [
    "# 원-핫 인코딩\n",
    "고유 값만 1이고 나머지는 0"
   ]
  },
  {
   "cell_type": "code",
   "execution_count": 177,
   "id": "f60763d3-ee6a-449e-9656-150b69f5f8b1",
   "metadata": {},
   "outputs": [],
   "source": [
    "# 사이킷런 OndeHotEncoder 이용"
   ]
  },
  {
   "cell_type": "code",
   "execution_count": 178,
   "id": "4b83ca57-afa2-4c0f-8bbb-d5f703e60ff1",
   "metadata": {},
   "outputs": [],
   "source": [
    "from sklearn.preprocessing import OneHotEncoder\n",
    "import numpy as np\n",
    "items = ['TV', '냉장고', '전자레인지', '전자래인지', '컴퓨터', '선풍기', '믹서', '믹서']\n"
   ]
  },
  {
   "cell_type": "code",
   "execution_count": 179,
   "id": "d618e9aa-bbbc-434d-9fab-5b66ee82434d",
   "metadata": {},
   "outputs": [
    {
     "data": {
      "text/plain": [
       "array([0, 1, 5, 4, 6, 3, 2, 2])"
      ]
     },
     "execution_count": 179,
     "metadata": {},
     "output_type": "execute_result"
    }
   ],
   "source": [
    "encoder = LabelEncoder()\n",
    "encoder.fit(items)\n",
    "labels = encoder.transform(items)\n",
    "labels"
   ]
  },
  {
   "cell_type": "code",
   "execution_count": 180,
   "id": "ff2aa00c-16ae-4d35-9729-f99d3d1f2531",
   "metadata": {},
   "outputs": [
    {
     "data": {
      "text/plain": [
       "(8,)"
      ]
     },
     "execution_count": 180,
     "metadata": {},
     "output_type": "execute_result"
    }
   ],
   "source": [
    "labels.shape"
   ]
  },
  {
   "cell_type": "code",
   "execution_count": 181,
   "id": "9419cdb3-9b61-4463-b0df-d69736ce8cd9",
   "metadata": {},
   "outputs": [],
   "source": [
    "oh_encoder = OneHotEncoder()\n",
    "oh_encoder.fit(labels.reshape(-1,1))\n",
    "oh_labels = oh_encoder.transform(labels.reshape(-1,1))"
   ]
  },
  {
   "cell_type": "code",
   "execution_count": 182,
   "id": "c5fd4210-04b5-4d44-b09d-cbe3c43e12a0",
   "metadata": {},
   "outputs": [
    {
     "data": {
      "text/plain": [
       "[[1.0, 0.0, 0.0, 0.0, 0.0, 0.0, 0.0],\n",
       " [0.0, 1.0, 0.0, 0.0, 0.0, 0.0, 0.0],\n",
       " [0.0, 0.0, 0.0, 0.0, 0.0, 1.0, 0.0],\n",
       " [0.0, 0.0, 0.0, 0.0, 1.0, 0.0, 0.0],\n",
       " [0.0, 0.0, 0.0, 0.0, 0.0, 0.0, 1.0],\n",
       " [0.0, 0.0, 0.0, 1.0, 0.0, 0.0, 0.0],\n",
       " [0.0, 0.0, 1.0, 0.0, 0.0, 0.0, 0.0],\n",
       " [0.0, 0.0, 1.0, 0.0, 0.0, 0.0, 0.0]]"
      ]
     },
     "execution_count": 182,
     "metadata": {},
     "output_type": "execute_result"
    }
   ],
   "source": [
    "oh_labels.toarray().tolist()"
   ]
  },
  {
   "cell_type": "code",
   "execution_count": 183,
   "id": "724b6bb1-710d-4eba-89c1-26cd4f026e6f",
   "metadata": {},
   "outputs": [
    {
     "data": {
      "text/html": [
       "<div>\n",
       "<style scoped>\n",
       "    .dataframe tbody tr th:only-of-type {\n",
       "        vertical-align: middle;\n",
       "    }\n",
       "\n",
       "    .dataframe tbody tr th {\n",
       "        vertical-align: top;\n",
       "    }\n",
       "\n",
       "    .dataframe thead th {\n",
       "        text-align: right;\n",
       "    }\n",
       "</style>\n",
       "<table border=\"1\" class=\"dataframe\">\n",
       "  <thead>\n",
       "    <tr style=\"text-align: right;\">\n",
       "      <th></th>\n",
       "      <th>sepal length (cm)</th>\n",
       "      <th>sepal width (cm)</th>\n",
       "      <th>petal length (cm)</th>\n",
       "      <th>petal width (cm)</th>\n",
       "      <th>label</th>\n",
       "    </tr>\n",
       "  </thead>\n",
       "  <tbody>\n",
       "    <tr>\n",
       "      <th>44</th>\n",
       "      <td>5.1</td>\n",
       "      <td>3.8</td>\n",
       "      <td>1.9</td>\n",
       "      <td>0.4</td>\n",
       "      <td>0</td>\n",
       "    </tr>\n",
       "    <tr>\n",
       "      <th>71</th>\n",
       "      <td>6.1</td>\n",
       "      <td>2.8</td>\n",
       "      <td>4.0</td>\n",
       "      <td>1.3</td>\n",
       "      <td>1</td>\n",
       "    </tr>\n",
       "  </tbody>\n",
       "</table>\n",
       "</div>"
      ],
      "text/plain": [
       "    sepal length (cm)  sepal width (cm)  petal length (cm)  petal width (cm)  \\\n",
       "44                5.1               3.8                1.9               0.4   \n",
       "71                6.1               2.8                4.0               1.3   \n",
       "\n",
       "    label  \n",
       "44      0  \n",
       "71      1  "
      ]
     },
     "execution_count": 183,
     "metadata": {},
     "output_type": "execute_result"
    }
   ],
   "source": [
    "iris_df.sample(2)"
   ]
  },
  {
   "cell_type": "code",
   "execution_count": 184,
   "id": "842206f8-57fa-44a9-9910-e8ddc41b18ff",
   "metadata": {},
   "outputs": [
    {
     "data": {
      "text/plain": [
       "sepal length (cm)    0.685694\n",
       "sepal width (cm)     0.189979\n",
       "petal length (cm)    3.116278\n",
       "petal width (cm)     0.581006\n",
       "label                0.671141\n",
       "dtype: float64"
      ]
     },
     "execution_count": 184,
     "metadata": {},
     "output_type": "execute_result"
    }
   ],
   "source": [
    "iris_df.var()"
   ]
  },
  {
   "cell_type": "code",
   "execution_count": null,
   "id": "a020819b-f963-49ef-918d-376f8baef837",
   "metadata": {},
   "outputs": [],
   "source": []
  },
  {
   "cell_type": "markdown",
   "id": "194bfaeb-7f45-4f72-986e-1981dcbed02e",
   "metadata": {},
   "source": [
    "# StandarScaler"
   ]
  },
  {
   "cell_type": "code",
   "execution_count": 197,
   "id": "edb570ac-77bb-46f6-bc7e-24e2fc4a02cc",
   "metadata": {},
   "outputs": [],
   "source": [
    "iris = load_iris()\n",
    "iris_df = pd.DataFrame(data=iris.data, columns=iris.feature_names)"
   ]
  },
  {
   "cell_type": "code",
   "execution_count": 198,
   "id": "58bc5c63-5597-48c6-a68e-c82676b77185",
   "metadata": {},
   "outputs": [],
   "source": [
    "from sklearn.preprocessing import StandardScaler"
   ]
  },
  {
   "cell_type": "code",
   "execution_count": 199,
   "id": "1b27bc07-260b-4bc6-9609-cdf49a135699",
   "metadata": {},
   "outputs": [],
   "source": [
    "iris = load_iris()\n",
    "scaler = StandardScaler()\n",
    "scaler.fit(iris_df)\n",
    "iris_scaled = scaler.transform(iris_df)"
   ]
  },
  {
   "cell_type": "code",
   "execution_count": 200,
   "id": "31166837-1320-487b-948a-058d59ef393b",
   "metadata": {},
   "outputs": [],
   "source": [
    "iris_df_scaled = pd.DataFrame(data=iris_scaled, columns=iris.feature_names)"
   ]
  },
  {
   "cell_type": "code",
   "execution_count": 206,
   "id": "0fc95430-40f4-479f-9f08-0231cbc5c89d",
   "metadata": {},
   "outputs": [
    {
     "data": {
      "text/html": [
       "<div>\n",
       "<style scoped>\n",
       "    .dataframe tbody tr th:only-of-type {\n",
       "        vertical-align: middle;\n",
       "    }\n",
       "\n",
       "    .dataframe tbody tr th {\n",
       "        vertical-align: top;\n",
       "    }\n",
       "\n",
       "    .dataframe thead th {\n",
       "        text-align: right;\n",
       "    }\n",
       "</style>\n",
       "<table border=\"1\" class=\"dataframe\">\n",
       "  <thead>\n",
       "    <tr style=\"text-align: right;\">\n",
       "      <th></th>\n",
       "      <th>sepal length (cm)</th>\n",
       "      <th>sepal width (cm)</th>\n",
       "      <th>petal length (cm)</th>\n",
       "      <th>petal width (cm)</th>\n",
       "    </tr>\n",
       "  </thead>\n",
       "  <tbody>\n",
       "    <tr>\n",
       "      <th>0</th>\n",
       "      <td>0.222222</td>\n",
       "      <td>0.625000</td>\n",
       "      <td>0.067797</td>\n",
       "      <td>0.041667</td>\n",
       "    </tr>\n",
       "    <tr>\n",
       "      <th>1</th>\n",
       "      <td>0.166667</td>\n",
       "      <td>0.416667</td>\n",
       "      <td>0.067797</td>\n",
       "      <td>0.041667</td>\n",
       "    </tr>\n",
       "    <tr>\n",
       "      <th>2</th>\n",
       "      <td>0.111111</td>\n",
       "      <td>0.500000</td>\n",
       "      <td>0.050847</td>\n",
       "      <td>0.041667</td>\n",
       "    </tr>\n",
       "    <tr>\n",
       "      <th>3</th>\n",
       "      <td>0.083333</td>\n",
       "      <td>0.458333</td>\n",
       "      <td>0.084746</td>\n",
       "      <td>0.041667</td>\n",
       "    </tr>\n",
       "    <tr>\n",
       "      <th>4</th>\n",
       "      <td>0.194444</td>\n",
       "      <td>0.666667</td>\n",
       "      <td>0.067797</td>\n",
       "      <td>0.041667</td>\n",
       "    </tr>\n",
       "    <tr>\n",
       "      <th>...</th>\n",
       "      <td>...</td>\n",
       "      <td>...</td>\n",
       "      <td>...</td>\n",
       "      <td>...</td>\n",
       "    </tr>\n",
       "    <tr>\n",
       "      <th>145</th>\n",
       "      <td>0.666667</td>\n",
       "      <td>0.416667</td>\n",
       "      <td>0.711864</td>\n",
       "      <td>0.916667</td>\n",
       "    </tr>\n",
       "    <tr>\n",
       "      <th>146</th>\n",
       "      <td>0.555556</td>\n",
       "      <td>0.208333</td>\n",
       "      <td>0.677966</td>\n",
       "      <td>0.750000</td>\n",
       "    </tr>\n",
       "    <tr>\n",
       "      <th>147</th>\n",
       "      <td>0.611111</td>\n",
       "      <td>0.416667</td>\n",
       "      <td>0.711864</td>\n",
       "      <td>0.791667</td>\n",
       "    </tr>\n",
       "    <tr>\n",
       "      <th>148</th>\n",
       "      <td>0.527778</td>\n",
       "      <td>0.583333</td>\n",
       "      <td>0.745763</td>\n",
       "      <td>0.916667</td>\n",
       "    </tr>\n",
       "    <tr>\n",
       "      <th>149</th>\n",
       "      <td>0.444444</td>\n",
       "      <td>0.416667</td>\n",
       "      <td>0.694915</td>\n",
       "      <td>0.708333</td>\n",
       "    </tr>\n",
       "  </tbody>\n",
       "</table>\n",
       "<p>150 rows × 4 columns</p>\n",
       "</div>"
      ],
      "text/plain": [
       "     sepal length (cm)  sepal width (cm)  petal length (cm)  petal width (cm)\n",
       "0             0.222222          0.625000           0.067797          0.041667\n",
       "1             0.166667          0.416667           0.067797          0.041667\n",
       "2             0.111111          0.500000           0.050847          0.041667\n",
       "3             0.083333          0.458333           0.084746          0.041667\n",
       "4             0.194444          0.666667           0.067797          0.041667\n",
       "..                 ...               ...                ...               ...\n",
       "145           0.666667          0.416667           0.711864          0.916667\n",
       "146           0.555556          0.208333           0.677966          0.750000\n",
       "147           0.611111          0.416667           0.711864          0.791667\n",
       "148           0.527778          0.583333           0.745763          0.916667\n",
       "149           0.444444          0.416667           0.694915          0.708333\n",
       "\n",
       "[150 rows x 4 columns]"
      ]
     },
     "execution_count": 206,
     "metadata": {},
     "output_type": "execute_result"
    }
   ],
   "source": [
    "iris_df_scaled"
   ]
  },
  {
   "cell_type": "code",
   "execution_count": 201,
   "id": "8081357f-db7c-4d48-a4b7-641f60ca0fff",
   "metadata": {},
   "outputs": [
    {
     "data": {
      "text/plain": [
       "sepal length (cm)   -1.690315e-15\n",
       "sepal width (cm)    -1.842970e-15\n",
       "petal length (cm)   -1.698641e-15\n",
       "petal width (cm)    -1.409243e-15\n",
       "dtype: float64"
      ]
     },
     "execution_count": 201,
     "metadata": {},
     "output_type": "execute_result"
    }
   ],
   "source": [
    "iris_df_scaled.mean()"
   ]
  },
  {
   "cell_type": "code",
   "execution_count": 202,
   "id": "2af14a57-a542-4e84-99ae-bc21d08b2a93",
   "metadata": {},
   "outputs": [
    {
     "data": {
      "text/plain": [
       "sepal length (cm)    1.006711\n",
       "sepal width (cm)     1.006711\n",
       "petal length (cm)    1.006711\n",
       "petal width (cm)     1.006711\n",
       "dtype: float64"
      ]
     },
     "execution_count": 202,
     "metadata": {},
     "output_type": "execute_result"
    }
   ],
   "source": [
    "iris_df_scaled.var()"
   ]
  },
  {
   "cell_type": "code",
   "execution_count": null,
   "id": "746a5fa2-d84b-41b0-8843-ec7590243fb3",
   "metadata": {},
   "outputs": [],
   "source": []
  },
  {
   "cell_type": "markdown",
   "id": "1da895e8-70e6-4fd2-9e95-5b5361481334",
   "metadata": {},
   "source": [
    "# MinMaxScaler"
   ]
  },
  {
   "cell_type": "code",
   "execution_count": 203,
   "id": "0ed15635-91d5-4872-a5f2-b7c31896e9b8",
   "metadata": {},
   "outputs": [],
   "source": [
    "from sklearn.preprocessing import MinMaxScaler"
   ]
  },
  {
   "cell_type": "code",
   "execution_count": 204,
   "id": "1cd265e3-e09f-46ef-b963-e3b8a5a3140e",
   "metadata": {},
   "outputs": [],
   "source": [
    "scaler = MinMaxScaler()\n",
    "scaler.fit(iris_df)\n",
    "iris_scaled = scaler.transform(iris_df)"
   ]
  },
  {
   "cell_type": "code",
   "execution_count": 205,
   "id": "4c97032a-2d50-49e9-9b29-2c9267edaeca",
   "metadata": {},
   "outputs": [],
   "source": [
    "iris_df_scaled = pd.DataFrame(data=iris_scaled, columns=iris.feature_names)"
   ]
  },
  {
   "cell_type": "code",
   "execution_count": 208,
   "id": "75e8a0b3-3caf-4d68-aca2-bfdf3ade27f9",
   "metadata": {},
   "outputs": [
    {
     "data": {
      "text/plain": [
       "sepal length (cm)    0.0\n",
       "sepal width (cm)     0.0\n",
       "petal length (cm)    0.0\n",
       "petal width (cm)     0.0\n",
       "dtype: float64"
      ]
     },
     "execution_count": 208,
     "metadata": {},
     "output_type": "execute_result"
    }
   ],
   "source": [
    "iris_df_scaled.min()"
   ]
  },
  {
   "cell_type": "code",
   "execution_count": 209,
   "id": "66c415b2-828c-4c6a-8e00-c1b02f742f98",
   "metadata": {},
   "outputs": [
    {
     "data": {
      "text/plain": [
       "sepal length (cm)    1.0\n",
       "sepal width (cm)     1.0\n",
       "petal length (cm)    1.0\n",
       "petal width (cm)     1.0\n",
       "dtype: float64"
      ]
     },
     "execution_count": 209,
     "metadata": {},
     "output_type": "execute_result"
    }
   ],
   "source": [
    "iris_df_scaled.max()"
   ]
  },
  {
   "cell_type": "code",
   "execution_count": null,
   "id": "0f8ef7ef-8afe-46e3-ac0b-e061ca5784df",
   "metadata": {},
   "outputs": [],
   "source": []
  },
  {
   "cell_type": "code",
   "execution_count": 210,
   "id": "da3ac996-24fa-473f-9284-4aa0a3618b32",
   "metadata": {},
   "outputs": [],
   "source": [
    "from sklearn.preprocessing import MinMaxScaler\n",
    "import numpy as np\n",
    "\n",
    "# 학습 데이터는 0부터 10까지, 테스트 데이터는 0부터 5까지 값을 가지는 데이터 세트 생성\n",
    "# Scaler 클래스의 fit(), transform()은 2차원 이상 데이터만 가능하므로 reshape(-1,1)로 차원 변경\n",
    "train_array = np.arange(0, 11).reshape(-1,1)\n",
    "test_array = np.arange(0, 6).reshape(-1,1)"
   ]
  },
  {
   "cell_type": "code",
   "execution_count": 215,
   "id": "5ddb7dc7-102f-48aa-8ae9-86e39009d1b7",
   "metadata": {},
   "outputs": [
    {
     "name": "stdout",
     "output_type": "stream",
     "text": [
      "원본 train_array 데이터: [ 0  1  2  3  4  5  6  7  8  9 10]\n",
      "Scale된 train_array 데이터: [0.  0.1 0.2 0.3 0.4 0.5 0.6 0.7 0.8 0.9 1. ]\n"
     ]
    }
   ],
   "source": [
    "# MinMaxScaler 객체에 별도의 feature_range 파라미터 값을 지정하지 않으면 0~1 값으로 변환\n",
    "scaler = MinMaxScaler()\n",
    "\n",
    "# fit()하면 train_array 데이터의 최소값이 0, 최대값이 10으로 설정\n",
    "scaler.fit(train_array)\n",
    "\n",
    "# 1/10 scale로 train_array 데이터 변환함. 원본 10 -> 1로 변환됨\n",
    "train_scaled = scaler.transform(train_array)\n",
    "\n",
    "print('원본 train_array 데이터:', np.round(train_array.reshape(-1),2))\n",
    "print('Scale된 train_array 데이터:', np.round(train_scaled.reshape(-1),2))"
   ]
  },
  {
   "cell_type": "raw",
   "id": "d5630b01-8026-49eb-9078-3b0015a6e02b",
   "metadata": {},
   "source": [
    "# 위의 학습 데이터와 아래의 테스트 데이터의 스케일링이 맞지 않는다\n",
    "# 테스트 데이터에 다시 fit()을 적용하면 안됨\n",
    "# 이미 fit()이 적용된 Scaler 객체를 transform()으로 변환해야 한다"
   ]
  },
  {
   "cell_type": "code",
   "execution_count": 216,
   "id": "2c1ff9f0-5e8d-447f-b4d2-46faf3fee7f9",
   "metadata": {},
   "outputs": [
    {
     "name": "stdout",
     "output_type": "stream",
     "text": [
      "원본 test_array 데이터: [0 1 2 3 4 5]\n",
      "Scale된 test_array 데이터: [0.  0.2 0.4 0.6 0.8 1. ]\n"
     ]
    }
   ],
   "source": [
    "# MinMaxScaler에 test_array를 fit()하면 원본 데이터의 최소값이 0, 최대값이 5로 설정\n",
    "scaler.fit(test_array)\n",
    "\n",
    "# 1/5 scale로 test_array 데이터 변환함. 원본 5 -> 1로 변환\n",
    "test_scaled = scaler.transform(test_array)\n",
    "\n",
    "#test_array의 scale 변환 출력\n",
    "print('원본 test_array 데이터:', np.round(test_array.reshape(-1),2))\n",
    "print('Scale된 test_array 데이터:', np.round(test_scaled.reshape(-1),2))"
   ]
  },
  {
   "cell_type": "raw",
   "id": "90135f68-a3f4-4671-a5b2-70b01d6e2d77",
   "metadata": {},
   "source": [
    "# 아래와 같이 해야함"
   ]
  },
  {
   "cell_type": "code",
   "execution_count": 230,
   "id": "e6b34d29-a98e-4f67-9bd4-28a38e3abf46",
   "metadata": {},
   "outputs": [
    {
     "name": "stdout",
     "output_type": "stream",
     "text": [
      "원본 train_array 데이터: [ 0  1  2  3  4  5  6  7  8  9 10]\n",
      "Scale된 train_array 데이터: [ 0  1  2  3  4  5  6  7  8  9 10]\n",
      "\n",
      "원본 test_array 데이터: [0 1 2 3 4 5]\n",
      "Scale된 test_array 데이터: [0 1 2 3 4 5]\n"
     ]
    }
   ],
   "source": [
    "scaler = MinMaxScaler()\n",
    "scaler.fit(train_array)\n",
    "train_scaled = scaler.transform(train_array)\n",
    "print('원본 train_array 데이터:', np.round(train_array.reshape(-1),2))\n",
    "print('Scale된 train_array 데이터:', np.round(train_array.reshape(-1),2))\n",
    "\n",
    "# test_array에 Scale 변환을 할 떄는 반드시 fit()을 호출하지 않고 transform()만으로 변환해야 함\n",
    "test_scaled = scaler.transform(test_array)\n",
    "print('\\n원본 test_array 데이터:', np.round(test_array.reshape(-1),2))\n",
    "print('Scale된 test_array 데이터:', np.round(test_array.reshape(-1),2))"
   ]
  },
  {
   "cell_type": "code",
   "execution_count": null,
   "id": "37baeb29-d58f-4c7f-9a1a-36eee424bd7e",
   "metadata": {},
   "outputs": [],
   "source": []
  }
 ],
 "metadata": {
  "kernelspec": {
   "display_name": "Python 3",
   "language": "python",
   "name": "python3"
  },
  "language_info": {
   "codemirror_mode": {
    "name": "ipython",
    "version": 3
   },
   "file_extension": ".py",
   "mimetype": "text/x-python",
   "name": "python",
   "nbconvert_exporter": "python",
   "pygments_lexer": "ipython3",
   "version": "3.9.1"
  }
 },
 "nbformat": 4,
 "nbformat_minor": 5
}
