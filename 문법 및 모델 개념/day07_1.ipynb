{
 "cells": [
  {
   "cell_type": "markdown",
   "id": "9df27660-2a01-4a97-847f-40bfe00535df",
   "metadata": {},
   "source": [
    "# 회귀"
   ]
  },
  {
   "cell_type": "code",
   "execution_count": 5,
   "id": "88de3f5b-c379-4f42-93f2-22ba3427b52a",
   "metadata": {},
   "outputs": [],
   "source": [
    "import numpy as np\n",
    "import matplotlib.pyplot as plt\n",
    "\n",
    "np.random.seed(0)\n",
    "# y = 4X + 6을 근사(w1=4, w0=6) 임의의 값은 노이즈를 위해 만듦\n",
    "X = 2 * np.random.rand(100, 1)\n",
    "y = 6 + 4 * X+np.random.randn(100, 1)"
   ]
  },
  {
   "cell_type": "code",
   "execution_count": 6,
   "id": "9ac66948-db6f-473b-83ac-1c34a2a82bcd",
   "metadata": {
    "collapsed": true,
    "jupyter": {
     "outputs_hidden": true
    },
    "tags": []
   },
   "outputs": [
    {
     "data": {
      "text/plain": [
       "array([[1.09762701],\n",
       "       [1.43037873],\n",
       "       [1.20552675],\n",
       "       [1.08976637],\n",
       "       [0.8473096 ],\n",
       "       [1.29178823],\n",
       "       [0.87517442],\n",
       "       [1.783546  ],\n",
       "       [1.92732552],\n",
       "       [0.76688304],\n",
       "       [1.58345008],\n",
       "       [1.05778984],\n",
       "       [1.13608912],\n",
       "       [1.85119328],\n",
       "       [0.14207212],\n",
       "       [0.1742586 ],\n",
       "       [0.04043679],\n",
       "       [1.66523969],\n",
       "       [1.5563135 ],\n",
       "       [1.7400243 ],\n",
       "       [1.95723668],\n",
       "       [1.59831713],\n",
       "       [0.92295872],\n",
       "       [1.56105835],\n",
       "       [0.23654885],\n",
       "       [1.27984204],\n",
       "       [0.28670657],\n",
       "       [1.88933783],\n",
       "       [1.04369664],\n",
       "       [0.82932388],\n",
       "       [0.52911122],\n",
       "       [1.54846738],\n",
       "       [0.91230066],\n",
       "       [1.1368679 ],\n",
       "       [0.0375796 ],\n",
       "       [1.23527099],\n",
       "       [1.22419145],\n",
       "       [1.23386799],\n",
       "       [1.88749616],\n",
       "       [1.3636406 ],\n",
       "       [0.7190158 ],\n",
       "       [0.87406391],\n",
       "       [1.39526239],\n",
       "       [0.12045094],\n",
       "       [1.33353343],\n",
       "       [1.34127574],\n",
       "       [0.42076512],\n",
       "       [0.2578526 ],\n",
       "       [0.6308567 ],\n",
       "       [0.72742154],\n",
       "       [1.14039354],\n",
       "       [0.87720303],\n",
       "       [1.97674768],\n",
       "       [0.20408962],\n",
       "       [0.41775351],\n",
       "       [0.32261904],\n",
       "       [1.30621665],\n",
       "       [0.50658321],\n",
       "       [0.93262155],\n",
       "       [0.48885118],\n",
       "       [0.31793917],\n",
       "       [0.22075028],\n",
       "       [1.31265918],\n",
       "       [0.2763659 ],\n",
       "       [0.39316472],\n",
       "       [0.73745034],\n",
       "       [1.64198646],\n",
       "       [0.19420255],\n",
       "       [1.67588981],\n",
       "       [0.19219682],\n",
       "       [1.95291893],\n",
       "       [0.9373024 ],\n",
       "       [1.95352218],\n",
       "       [1.20969104],\n",
       "       [1.47852716],\n",
       "       [0.07837558],\n",
       "       [0.56561393],\n",
       "       [0.24039312],\n",
       "       [0.5922804 ],\n",
       "       [0.23745544],\n",
       "       [0.63596636],\n",
       "       [0.82852599],\n",
       "       [0.12829499],\n",
       "       [1.38494424],\n",
       "       [1.13320291],\n",
       "       [0.53077898],\n",
       "       [1.04649611],\n",
       "       [0.18788102],\n",
       "       [1.15189299],\n",
       "       [1.8585924 ],\n",
       "       [0.6371379 ],\n",
       "       [1.33482076],\n",
       "       [0.26359572],\n",
       "       [1.43265441],\n",
       "       [0.57881219],\n",
       "       [0.36638272],\n",
       "       [1.17302587],\n",
       "       [0.04021509],\n",
       "       [1.65788006],\n",
       "       [0.00939095]])"
      ]
     },
     "execution_count": 6,
     "metadata": {},
     "output_type": "execute_result"
    }
   ],
   "source": [
    "X"
   ]
  },
  {
   "cell_type": "code",
   "execution_count": 7,
   "id": "c935929e-c965-4190-9164-26ab7a441543",
   "metadata": {
    "collapsed": true,
    "jupyter": {
     "outputs_hidden": true
    },
    "tags": []
   },
   "outputs": [
    {
     "data": {
      "text/plain": [
       "array([[ 9.22535819],\n",
       "       [12.62234142],\n",
       "       [11.28776945],\n",
       "       [ 8.82282178],\n",
       "       [10.87749059],\n",
       "       [13.06304208],\n",
       "       [10.67947726],\n",
       "       [12.95425917],\n",
       "       [12.63854946],\n",
       "       [10.12198388],\n",
       "       [11.93062336],\n",
       "       [11.45360443],\n",
       "       [10.75263147],\n",
       "       [14.38141214],\n",
       "       [ 6.92465486],\n",
       "       [ 7.40360757],\n",
       "       [ 6.1722472 ],\n",
       "       [14.44682926],\n",
       "       [12.3521661 ],\n",
       "       [13.36208655],\n",
       "       [15.71209743],\n",
       "       [11.04550945],\n",
       "       [ 8.4213499 ],\n",
       "       [13.21363012],\n",
       "       [ 5.773072  ],\n",
       "       [13.06298936],\n",
       "       [ 6.73320732],\n",
       "       [12.80989652],\n",
       "       [12.0977286 ],\n",
       "       [10.79781031],\n",
       "       [ 9.98400386],\n",
       "       [13.09991417],\n",
       "       [ 8.78797697],\n",
       "       [12.45753654],\n",
       "       [ 5.88231503],\n",
       "       [11.74354037],\n",
       "       [11.84401775],\n",
       "       [10.78046188],\n",
       "       [14.164064  ],\n",
       "       [12.37676906],\n",
       "       [ 9.25248874],\n",
       "       [ 8.39685484],\n",
       "       [11.87928774],\n",
       "       [ 7.80818967],\n",
       "       [10.63956586],\n",
       "       [11.21546842],\n",
       "       [ 7.24790694],\n",
       "       [ 8.88067411],\n",
       "       [ 9.19572156],\n",
       "       [ 9.317148  ],\n",
       "       [ 9.79165809],\n",
       "       [10.0480613 ],\n",
       "       [13.23265804],\n",
       "       [ 6.84818904],\n",
       "       [ 7.03516797],\n",
       "       [ 7.96690944],\n",
       "       [11.80145742],\n",
       "       [ 7.81803406],\n",
       "       [10.1264929 ],\n",
       "       [ 6.86234323],\n",
       "       [ 5.78049908],\n",
       "       [ 7.32239283],\n",
       "       [11.41731021],\n",
       "       [ 7.74049505],\n",
       "       [ 9.95580367],\n",
       "       [ 9.89428085],\n",
       "       [11.65512361],\n",
       "       [ 7.89382649],\n",
       "       [11.38765185],\n",
       "       [ 6.30720266],\n",
       "       [13.74343411],\n",
       "       [11.46255233],\n",
       "       [13.06933388],\n",
       "       [10.01232562],\n",
       "       [11.81565611],\n",
       "       [ 5.65002405],\n",
       "       [ 9.38909162],\n",
       "       [ 5.88164098],\n",
       "       [ 7.22165293],\n",
       "       [ 6.51200171],\n",
       "       [ 8.04583298],\n",
       "       [11.24363601],\n",
       "       [ 7.46260078],\n",
       "       [11.6273282 ],\n",
       "       [ 9.30737611],\n",
       "       [ 8.9674789 ],\n",
       "       [ 9.18576908],\n",
       "       [ 5.20675299],\n",
       "       [11.79560176],\n",
       "       [13.75131219],\n",
       "       [ 9.46941044],\n",
       "       [11.65801069],\n",
       "       [ 7.91121351],\n",
       "       [11.07959204],\n",
       "       [ 7.2810059 ],\n",
       "       [ 8.14712541],\n",
       "       [ 9.88869381],\n",
       "       [ 5.47131059],\n",
       "       [12.17598773],\n",
       "       [ 6.05504297]])"
      ]
     },
     "execution_count": 7,
     "metadata": {},
     "output_type": "execute_result"
    }
   ],
   "source": [
    "y"
   ]
  },
  {
   "cell_type": "code",
   "execution_count": 8,
   "id": "db8423a4-6141-4ef2-96c9-84af0255fda4",
   "metadata": {},
   "outputs": [
    {
     "data": {
      "text/plain": [
       "<matplotlib.collections.PathCollection at 0x1fe251c4a90>"
      ]
     },
     "execution_count": 8,
     "metadata": {},
     "output_type": "execute_result"
    },
    {
     "data": {
      "image/png": "[encoded data removed]",
      "text/plain": [
       "<Figure size 432x288 with 1 Axes>"
      ]
     },
     "metadata": {
      "needs_background": "light"
     },
     "output_type": "display_data"
    }
   ],
   "source": [
    "# X, y 데이터 세트 산점도로 시각화\n",
    "plt.scatter(X, y)"
   ]
  },
  {
   "cell_type": "markdown",
   "id": "eae14896-c9cf-42cf-9bb7-b69b815922a9",
   "metadata": {},
   "source": [
    "### 비용함수 정의"
   ]
  },
  {
   "cell_type": "code",
   "execution_count": 16,
   "id": "6c83496e-3aba-46e1-848f-710b8701b22a",
   "metadata": {},
   "outputs": [],
   "source": [
    "def get_cost(y, y_pred):\n",
    "    N = len(y)\n",
    "    cost = np.sum(np.square(y - y_pred)) / N\n",
    "    return cost"
   ]
  },
  {
   "cell_type": "code",
   "execution_count": 17,
   "id": "f5035891-ab50-411f-9d89-2c614a2b3354",
   "metadata": {},
   "outputs": [],
   "source": [
    "def get_weight_updates(w1, w0, X, y, learning_rate=0.01):\n",
    "    N = len(y)\n",
    "    # 먼저 w1_update, w0_update를 각각 w1, w0의 shape와 동일한 크기를 가진 0 값으로 초기화\n",
    "    w1_update = np.zeros_like(w1)\n",
    "    w0_update = np.zeros_like(w0)\n",
    "    \n",
    "    # 예측 배열 계산하고 예측과 실제 값의 차이 계산\n",
    "    y_pred = np.dot(X, w1.T) + w0\n",
    "    diff = y - y_pred\n",
    "    \n",
    "    # w0_update를 dot 행렬 연산으로 구하기 위해 모두 1값을 가진 행렬 생성\n",
    "    w0_factors = np.ones((N,1))\n",
    "    \n",
    "    # w1과 w0을 업데이트할 w1_update와 w0_update 계산\n",
    "    w1_update = -(2/N)*learning_rate*(np.dot(X.T, diff))\n",
    "    w0_update = -(2/N)*learning_rate*(np.dot(w0_factors.T, diff))\n",
    "    \n",
    "    return w1_update, w0_update"
   ]
  },
  {
   "cell_type": "code",
   "execution_count": 18,
   "id": "9ea57ff2-4c44-4c44-9f98-cd87fbb656ab",
   "metadata": {},
   "outputs": [],
   "source": [
    "# 입력 인자 iters로 주어진 횟수만큼 반복적으로 w1과 w0을 업데이트 적용\n",
    "def gradient_descent_steps(X, y, iters=10000):\n",
    "    # w0와 w1을 모두 0으로 초기화\n",
    "    w0 = np.zeros((1,1))\n",
    "    w1 = np.zeros((1,1))\n",
    "    \n",
    "    # 인자로 주어진 iters 만큼 반복적으로 get_weight_updates()호출해 w1, w0 업데이트 수행\n",
    "    for ind in range(iters):\n",
    "        w1_update, w0_update = get_weight_updates(w1, w0, X, y, learning_rate=0.01)\n",
    "        w1 = w1 - w1_update\n",
    "        w0 = w0 - w0_update\n",
    "        \n",
    "    return w1, w0"
   ]
  },
  {
   "cell_type": "code",
   "execution_count": 20,
   "id": "b5b0ddd2-a6be-40e9-9ea2-e9fc2ec4d58b",
   "metadata": {},
   "outputs": [
    {
     "name": "stdout",
     "output_type": "stream",
     "text": [
      "w1 : 4.022 w0 : 6.162\n",
      "Gradient Descent Total Cost : 0.9935\n"
     ]
    }
   ],
   "source": [
    "def get_cost(y, y_pred):\n",
    "    N = len(y)\n",
    "    cost = np.sum(np.square(y - y_pred)) / N\n",
    "    return cost\n",
    "\n",
    "w1, w0 = gradient_descent_steps(X, y, iters=1000)\n",
    "print('w1 : {:.3f} w0 : {:.3f}'.format(w1[0,0], w0[0,0]))\n",
    "y_pred = w1[0,0] * X + w0\n",
    "print('Gradient Descent Total Cost : {:.4f}'.format(get_cost(y, y_pred)))"
   ]
  },
  {
   "cell_type": "code",
   "execution_count": 21,
   "id": "d5ab27b0-8599-4d8f-80a6-9388e21ad033",
   "metadata": {},
   "outputs": [
    {
     "data": {
      "text/plain": [
       "[<matplotlib.lines.Line2D at 0x1fe24b35e50>]"
      ]
     },
     "execution_count": 21,
     "metadata": {},
     "output_type": "execute_result"
    },
    {
     "data": {
      "image/png": "[encoded data removed]",
      "text/plain": [
       "<Figure size 432x288 with 1 Axes>"
      ]
     },
     "metadata": {
      "needs_background": "light"
     },
     "output_type": "display_data"
    }
   ],
   "source": [
    "plt.scatter(X, y)\n",
    "plt.plot(X, y_pred)"
   ]
  },
  {
   "cell_type": "markdown",
   "id": "1b1c4fe5-5cdf-4086-a9f3-d1315a2ad467",
   "metadata": {},
   "source": [
    "### 확률적 경사 하강법"
   ]
  },
  {
   "cell_type": "code",
   "execution_count": 27,
   "id": "76e50289-c571-4893-b563-a60dc5e57957",
   "metadata": {},
   "outputs": [],
   "source": [
    "def stochastic_gradient_descent_steps(X, y, batch_size=10, iters=1000):\n",
    "    w0 = np.zeros((1,1))\n",
    "    w1 = np.zeros((1,1))\n",
    "    prev_cost = 1000000\n",
    "    iter_index = 0\n",
    "    \n",
    "    for ind in range(iters):\n",
    "        np.random.seed(ind)\n",
    "        \n",
    "        # 전체 X, y 데이터에서 랜덤하게 batch_size만큼 데이터를 추출해 sample_X, sample_y로 저장\n",
    "        stochastic_random_index = np.random.permutation(X.shape[0])\n",
    "        sample_X = X[stochastic_random_index[0:batch_size]]\n",
    "        sample_y = y[stochastic_random_index[0:batch_size]]\n",
    "        \n",
    "        # 랜덤하게 batch_size 만큼 추출된 데이터 기반으로 w1_update, w0_update 계산 후 업데이트\n",
    "        w1_update, w0_update = get_weight_updates(w1, w0, sample_X, sample_y, learning_rate=0.01)\n",
    "        w1 = w1 - w1_update\n",
    "        w0 = w0 - w0_update\n",
    "        \n",
    "    return w1, w0\n",
    "        "
   ]
  },
  {
   "cell_type": "code",
   "execution_count": 38,
   "id": "c351fff8-d094-4964-aefd-fa0d470b1a76",
   "metadata": {},
   "outputs": [
    {
     "name": "stdout",
     "output_type": "stream",
     "text": [
      "w1: 4.028 \n",
      "w0: 6.156\n",
      "Stochastic Gradient Total Cost:0.9937\n"
     ]
    }
   ],
   "source": [
    "w1, w0 = stochastic_gradient_descent_steps(X, y, iters=1000)\n",
    "print('w1:', round(w1[0,0],3), '\\nw0:', round(w0[0,0],3))\n",
    "y_pred = w1[0,0] * X + w0\n",
    "print('Stochastic Gradient Total Cost:{:.4f}'.format(get_cost(y, y_pred)))"
   ]
  },
  {
   "cell_type": "code",
   "execution_count": null,
   "id": "882bbecf-c459-42ae-8e35-574b980de145",
   "metadata": {},
   "outputs": [],
   "source": []
  }
 ],
 "metadata": {
  "kernelspec": {
   "display_name": "Python 3",
   "language": "python",
   "name": "python3"
  },
  "language_info": {
   "codemirror_mode": {
    "name": "ipython",
    "version": 3
   },
   "file_extension": ".py",
   "mimetype": "text/x-python",
   "name": "python",
   "nbconvert_exporter": "python",
   "pygments_lexer": "ipython3",
   "version": "3.9.1"
  }
 },
 "nbformat": 4,
 "nbformat_minor": 5
}
